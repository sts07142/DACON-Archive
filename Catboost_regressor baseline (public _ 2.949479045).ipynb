{
 "cells": [
  {
   "cell_type": "markdown",
   "metadata": {},
   "source": [
    "### 라이브러리 임포트"
   ]
  },
  {
   "cell_type": "code",
   "execution_count": 28,
   "metadata": {},
   "outputs": [],
   "source": [
    "import pandas as pd\n",
    "import numpy as np\n",
    "import random\n",
    "import os\n",
    "from catboost import CatBoostRegressor, Pool"
   ]
  },
  {
   "cell_type": "markdown",
   "metadata": {},
   "source": [
    "### 시드고정"
   ]
  },
  {
   "cell_type": "code",
   "execution_count": 29,
   "metadata": {},
   "outputs": [],
   "source": [
    "def seed_everything(seed):\n",
    "    random.seed(seed)\n",
    "    os.environ['PYTHONHASHSEED'] = str(seed)\n",
    "    np.random.seed(seed)\n",
    "    \n",
    "seed=42\n",
    "seed_everything(seed) # Seed 고정"
   ]
  },
  {
   "cell_type": "markdown",
   "metadata": {},
   "source": [
    "### 데이터 불러오기 & column제거"
   ]
  },
  {
   "cell_type": "code",
   "execution_count": 30,
   "metadata": {},
   "outputs": [],
   "source": [
    "df_train = pd.read_csv('train.csv')\n",
    "df_test = pd.read_csv('test.csv')\n",
    "df_train = df_train.drop(['sessionID','userID'],axis=1)\n",
    "df_test = df_test.drop(['sessionID','userID'],axis=1)"
   ]
  },
  {
   "cell_type": "markdown",
   "metadata": {},
   "source": [
    "### nan값 채우기"
   ]
  },
  {
   "cell_type": "code",
   "execution_count": 31,
   "metadata": {},
   "outputs": [],
   "source": [
    "df_train.fillna('NAN', inplace=True)\n",
    "df_test.fillna('NAN', inplace=True)"
   ]
  },
  {
   "cell_type": "code",
   "execution_count": 32,
   "metadata": {},
   "outputs": [],
   "source": [
    "import re\n",
    "\n",
    "\n",
    "df_train['new_bounced'] = df_train['new'] + df_train['bounced']\n",
    "df_test['new_bounced'] = df_test['new'] + df_test['bounced']\n",
    "\n",
    "df_train['quality/duration'] = np.where(df_train['duration'] == 0, 0, df_train['quality'] / df_train['duration'])\n",
    "df_test['quality/duration'] = np.where(df_test['duration'] == 0, 0, df_test['quality'] / df_test['duration'])\n",
    "\n",
    "df_train['duration/quality'] = np.where(df_train['quality'] == 0, 0, df_train['duration'] / df_train['quality'])\n",
    "df_test['duration/quality'] = np.where(df_test['quality'] == 0, 0, df_test['duration'] / df_test['quality'])\n",
    "\n",
    "\n",
    "df_train['quality/transaction'] = np.where(df_train['transaction'] == 0, 0, df_train['quality'] / df_train['transaction'])\n",
    "df_test['quality/transaction'] = np.where(df_test['transaction'] == 0, 0, df_test['quality'] / df_test['transaction'])\n",
    "\n",
    "df_train['duration/transaction'] = np.where(df_train['transaction'] == 0, 0, df_train['duration'] / df_train['transaction'])\n",
    "df_test['duration/transaction'] = np.where(df_test['transaction'] == 0, 0, df_test['duration'] / df_test['transaction'])\n",
    "\n",
    "df_train['per amount'] = np.where(df_train['transaction'] == 0, 0, df_train['transaction_revenue'] / df_train['transaction'])\n",
    "df_test['per amount'] = np.where(df_test['transaction'] == 0, 0, df_test['transaction_revenue'] / df_test['transaction'])\n",
    "\n",
    "\n",
    "# df_train['from'] = df_train['keyword'] + '/' + df_train['referral_path']\n",
    "# df_test['from'] = df_test['keyword'] + '/' + df_test['referral_path']\n",
    "\n",
    "# df_train['from'] = df_train['from'].str.replace('NAN', '').str.replace('/', '')\n",
    "# df_test['from'] = df_test['from'].str.replace('NAN', '').str.replace('/', '')\n",
    "\n",
    "# df_train['log_transaction_revenue'] = np.log(df_train['transaction_revenue'])\n",
    "# df_test['log_transaction_revenue'] = np.log(df_test['transaction_revenue'])\n",
    "\n",
    "# df_train['log_duration'] = np.log(df_train['duration'])\n",
    "# df_test['log_duration'] = np.log(df_test['duration'])\n"
   ]
  },
  {
   "cell_type": "code",
   "execution_count": 33,
   "metadata": {},
   "outputs": [],
   "source": [
    "# df_train.loc[df_train['traffic_source'].str.contains('google', case=False), 'traffic_source'] = 'google'\n",
    "# df_test.loc[df_test['traffic_source'].str.contains('google', case=False), 'traffic_source'] = 'google'\n",
    "\n",
    "# df_train.loc[df_train['traffic_source'].str.contains('yahoo', case=False), 'traffic_source'] = 'yahoo'\n",
    "# df_test.loc[df_test['traffic_source'].str.contains('yahoo', case=False), 'traffic_source'] = 'yahoo'\n",
    "\n",
    "# df_train.loc[df_train['traffic_source'].str.contains('youtube', case=False), 'traffic_source'] = 'youtube'\n",
    "# df_test.loc[df_test['traffic_source'].str.contains('youtube', case=False), 'traffic_source'] = 'youtube'\n"
   ]
  },
  {
   "cell_type": "code",
   "execution_count": 34,
   "metadata": {},
   "outputs": [],
   "source": [
    "from sklearn.preprocessing import MinMaxScaler\n",
    "\n",
    "scaler = MinMaxScaler(feature_range=(1, 100))\n",
    "\n",
    "df_train['duration'] = scaler.fit_transform(df_train[['duration']])\n",
    "df_test['duration'] = scaler.transform(df_test[['duration']])\n",
    "\n",
    "df_train['quality/duration'] = scaler.fit_transform(df_train[['quality/duration']])\n",
    "df_test['quality/duration'] = scaler.transform(df_test[['quality/duration']])\n",
    "\n",
    "df_train['duration/quality'] = scaler.fit_transform(df_train[['duration/quality']])\n",
    "df_test['duration/quality'] = scaler.transform(df_test[['duration/quality']])\n",
    "\n",
    "df_train['quality/transaction'] = scaler.fit_transform(df_train[['quality/transaction']])\n",
    "df_test['quality/transaction'] = scaler.transform(df_test[['quality/transaction']])\n",
    "\n",
    "df_train['duration/transaction'] = scaler.fit_transform(df_train[['duration/transaction']])\n",
    "df_test['duration/transaction'] = scaler.transform(df_test[['duration/transaction']])\n",
    "\n",
    "df_train['per amount'] = scaler.fit_transform(df_train[['per amount']])\n",
    "df_test['per amount'] = scaler.transform(df_test[['per amount']])\n"
   ]
  },
  {
   "cell_type": "code",
   "execution_count": 35,
   "metadata": {},
   "outputs": [],
   "source": [
    "# df_train = df_train.drop(['keyword', 'referral_path'], axis=1)\n",
    "# df_test = df_test.drop(['keyword', 'referral_path'], axis=1)\n",
    "\n",
    "df_train = df_train.drop(['continent','bounced'], axis=1)\n",
    "df_test = df_test.drop(['continent','bounced'], axis=1)\n"
   ]
  },
  {
   "cell_type": "code",
   "execution_count": 39,
   "metadata": {},
   "outputs": [],
   "source": [
    "df_train.loc[df_train['traffic_medium'] == '(none)', 'traffic_medium'] = df_train['traffic_source']\n",
    "df_test.loc[df_test['traffic_medium'] == '(none)', 'traffic_medium'] = df_test['traffic_source']\n",
    "\n",
    "df_train.loc[df_train['keyword'] == 'NAN', 'keyword'] = df_train['traffic_medium']\n",
    "df_train.loc[df_train['referral_path'] == 'NAN', 'referral_path'] = df_train['traffic_medium']\n",
    "\n",
    "df_test.loc[df_test['keyword'] == 'NAN', 'keyword'] = df_test['traffic_medium']\n",
    "df_test.loc[df_test['referral_path'] == 'NAN', 'referral_path'] = df_test['traffic_medium']\n",
    "\n"
   ]
  },
  {
   "cell_type": "code",
   "execution_count": 40,
   "metadata": {},
   "outputs": [
    {
     "name": "stdout",
     "output_type": "stream",
     "text": [
      "<class 'pandas.core.frame.DataFrame'>\n",
      "RangeIndex: 252289 entries, 0 to 252288\n",
      "Data columns (total 21 columns):\n",
      " #   Column                Non-Null Count   Dtype  \n",
      "---  ------                --------------   -----  \n",
      " 0   TARGET                252289 non-null  float64\n",
      " 1   browser               252289 non-null  object \n",
      " 2   OS                    252289 non-null  object \n",
      " 3   device                252289 non-null  object \n",
      " 4   new                   252289 non-null  int64  \n",
      " 5   quality               252289 non-null  float64\n",
      " 6   duration              252289 non-null  float64\n",
      " 7   transaction           252289 non-null  float64\n",
      " 8   transaction_revenue   252289 non-null  float64\n",
      " 9   subcontinent          252289 non-null  object \n",
      " 10  country               252289 non-null  object \n",
      " 11  traffic_source        252289 non-null  object \n",
      " 12  traffic_medium        252289 non-null  object \n",
      " 13  keyword               252289 non-null  object \n",
      " 14  referral_path         252289 non-null  object \n",
      " 15  new_bounced           252289 non-null  int64  \n",
      " 16  quality/duration      252289 non-null  float64\n",
      " 17  duration/quality      252289 non-null  float64\n",
      " 18  quality/transaction   252289 non-null  float64\n",
      " 19  duration/transaction  252289 non-null  float64\n",
      " 20  per amount            252289 non-null  float64\n",
      "dtypes: float64(10), int64(2), object(9)\n",
      "memory usage: 40.4+ MB\n"
     ]
    },
    {
     "data": {
      "text/html": [
       "<div>\n",
       "<style scoped>\n",
       "    .dataframe tbody tr th:only-of-type {\n",
       "        vertical-align: middle;\n",
       "    }\n",
       "\n",
       "    .dataframe tbody tr th {\n",
       "        vertical-align: top;\n",
       "    }\n",
       "\n",
       "    .dataframe thead th {\n",
       "        text-align: right;\n",
       "    }\n",
       "</style>\n",
       "<table border=\"1\" class=\"dataframe\">\n",
       "  <thead>\n",
       "    <tr style=\"text-align: right;\">\n",
       "      <th></th>\n",
       "      <th>TARGET</th>\n",
       "      <th>browser</th>\n",
       "      <th>OS</th>\n",
       "      <th>device</th>\n",
       "      <th>new</th>\n",
       "      <th>quality</th>\n",
       "      <th>duration</th>\n",
       "      <th>transaction</th>\n",
       "      <th>transaction_revenue</th>\n",
       "      <th>subcontinent</th>\n",
       "      <th>...</th>\n",
       "      <th>traffic_source</th>\n",
       "      <th>traffic_medium</th>\n",
       "      <th>keyword</th>\n",
       "      <th>referral_path</th>\n",
       "      <th>new_bounced</th>\n",
       "      <th>quality/duration</th>\n",
       "      <th>duration/quality</th>\n",
       "      <th>quality/transaction</th>\n",
       "      <th>duration/transaction</th>\n",
       "      <th>per amount</th>\n",
       "    </tr>\n",
       "  </thead>\n",
       "  <tbody>\n",
       "    <tr>\n",
       "      <th>0</th>\n",
       "      <td>17.0</td>\n",
       "      <td>Chrome</td>\n",
       "      <td>Macintosh</td>\n",
       "      <td>desktop</td>\n",
       "      <td>0</td>\n",
       "      <td>45.0</td>\n",
       "      <td>8.425443</td>\n",
       "      <td>0.0</td>\n",
       "      <td>0.0</td>\n",
       "      <td>Northern America</td>\n",
       "      <td>...</td>\n",
       "      <td>google</td>\n",
       "      <td>organic</td>\n",
       "      <td>Category8</td>\n",
       "      <td>organic</td>\n",
       "      <td>0</td>\n",
       "      <td>1.408453</td>\n",
       "      <td>1.432677</td>\n",
       "      <td>1.0</td>\n",
       "      <td>1.0</td>\n",
       "      <td>1.0</td>\n",
       "    </tr>\n",
       "    <tr>\n",
       "      <th>1</th>\n",
       "      <td>3.0</td>\n",
       "      <td>Chrome</td>\n",
       "      <td>Windows</td>\n",
       "      <td>desktop</td>\n",
       "      <td>1</td>\n",
       "      <td>1.0</td>\n",
       "      <td>1.345164</td>\n",
       "      <td>0.0</td>\n",
       "      <td>0.0</td>\n",
       "      <td>Western Europe</td>\n",
       "      <td>...</td>\n",
       "      <td>google</td>\n",
       "      <td>organic</td>\n",
       "      <td>Category8</td>\n",
       "      <td>organic</td>\n",
       "      <td>1</td>\n",
       "      <td>1.195266</td>\n",
       "      <td>1.905063</td>\n",
       "      <td>1.0</td>\n",
       "      <td>1.0</td>\n",
       "      <td>1.0</td>\n",
       "    </tr>\n",
       "    <tr>\n",
       "      <th>2</th>\n",
       "      <td>1.0</td>\n",
       "      <td>Samsung Internet</td>\n",
       "      <td>Android</td>\n",
       "      <td>mobile</td>\n",
       "      <td>1</td>\n",
       "      <td>1.0</td>\n",
       "      <td>1.000000</td>\n",
       "      <td>0.0</td>\n",
       "      <td>0.0</td>\n",
       "      <td>Southeast Asia</td>\n",
       "      <td>...</td>\n",
       "      <td>(direct)</td>\n",
       "      <td>(direct)</td>\n",
       "      <td>(direct)</td>\n",
       "      <td>(direct)</td>\n",
       "      <td>2</td>\n",
       "      <td>1.000000</td>\n",
       "      <td>1.000000</td>\n",
       "      <td>1.0</td>\n",
       "      <td>1.0</td>\n",
       "      <td>1.0</td>\n",
       "    </tr>\n",
       "    <tr>\n",
       "      <th>3</th>\n",
       "      <td>1.0</td>\n",
       "      <td>Chrome</td>\n",
       "      <td>Macintosh</td>\n",
       "      <td>desktop</td>\n",
       "      <td>1</td>\n",
       "      <td>1.0</td>\n",
       "      <td>1.000000</td>\n",
       "      <td>0.0</td>\n",
       "      <td>0.0</td>\n",
       "      <td>Northern America</td>\n",
       "      <td>...</td>\n",
       "      <td>Partners</td>\n",
       "      <td>affiliate</td>\n",
       "      <td>affiliate</td>\n",
       "      <td>affiliate</td>\n",
       "      <td>2</td>\n",
       "      <td>1.000000</td>\n",
       "      <td>1.000000</td>\n",
       "      <td>1.0</td>\n",
       "      <td>1.0</td>\n",
       "      <td>1.0</td>\n",
       "    </tr>\n",
       "    <tr>\n",
       "      <th>4</th>\n",
       "      <td>1.0</td>\n",
       "      <td>Chrome</td>\n",
       "      <td>iOS</td>\n",
       "      <td>mobile</td>\n",
       "      <td>0</td>\n",
       "      <td>1.0</td>\n",
       "      <td>1.000000</td>\n",
       "      <td>0.0</td>\n",
       "      <td>0.0</td>\n",
       "      <td>Northern America</td>\n",
       "      <td>...</td>\n",
       "      <td>groups.google.com</td>\n",
       "      <td>referral</td>\n",
       "      <td>referral</td>\n",
       "      <td>Category6_Path_0000</td>\n",
       "      <td>1</td>\n",
       "      <td>1.000000</td>\n",
       "      <td>1.000000</td>\n",
       "      <td>1.0</td>\n",
       "      <td>1.0</td>\n",
       "      <td>1.0</td>\n",
       "    </tr>\n",
       "    <tr>\n",
       "      <th>5</th>\n",
       "      <td>1.0</td>\n",
       "      <td>Chrome</td>\n",
       "      <td>Android</td>\n",
       "      <td>tablet</td>\n",
       "      <td>0</td>\n",
       "      <td>1.0</td>\n",
       "      <td>1.000000</td>\n",
       "      <td>0.0</td>\n",
       "      <td>0.0</td>\n",
       "      <td>Northern America</td>\n",
       "      <td>...</td>\n",
       "      <td>google</td>\n",
       "      <td>cpc</td>\n",
       "      <td>Category9</td>\n",
       "      <td>cpc</td>\n",
       "      <td>1</td>\n",
       "      <td>1.000000</td>\n",
       "      <td>1.000000</td>\n",
       "      <td>1.0</td>\n",
       "      <td>1.0</td>\n",
       "      <td>1.0</td>\n",
       "    </tr>\n",
       "    <tr>\n",
       "      <th>6</th>\n",
       "      <td>1.0</td>\n",
       "      <td>Chrome</td>\n",
       "      <td>Windows</td>\n",
       "      <td>desktop</td>\n",
       "      <td>1</td>\n",
       "      <td>1.0</td>\n",
       "      <td>1.000000</td>\n",
       "      <td>0.0</td>\n",
       "      <td>0.0</td>\n",
       "      <td>Southern Europe</td>\n",
       "      <td>...</td>\n",
       "      <td>youtube.com</td>\n",
       "      <td>referral</td>\n",
       "      <td>referral</td>\n",
       "      <td>Category7_Path_0001</td>\n",
       "      <td>2</td>\n",
       "      <td>1.000000</td>\n",
       "      <td>1.000000</td>\n",
       "      <td>1.0</td>\n",
       "      <td>1.0</td>\n",
       "      <td>1.0</td>\n",
       "    </tr>\n",
       "  </tbody>\n",
       "</table>\n",
       "<p>7 rows × 21 columns</p>\n",
       "</div>"
      ],
      "text/plain": [
       "   TARGET           browser         OS   device  new  quality  duration  \\\n",
       "0    17.0            Chrome  Macintosh  desktop    0     45.0  8.425443   \n",
       "1     3.0            Chrome    Windows  desktop    1      1.0  1.345164   \n",
       "2     1.0  Samsung Internet    Android   mobile    1      1.0  1.000000   \n",
       "3     1.0            Chrome  Macintosh  desktop    1      1.0  1.000000   \n",
       "4     1.0            Chrome        iOS   mobile    0      1.0  1.000000   \n",
       "5     1.0            Chrome    Android   tablet    0      1.0  1.000000   \n",
       "6     1.0            Chrome    Windows  desktop    1      1.0  1.000000   \n",
       "\n",
       "   transaction  transaction_revenue      subcontinent  ...     traffic_source  \\\n",
       "0          0.0                  0.0  Northern America  ...             google   \n",
       "1          0.0                  0.0    Western Europe  ...             google   \n",
       "2          0.0                  0.0    Southeast Asia  ...           (direct)   \n",
       "3          0.0                  0.0  Northern America  ...           Partners   \n",
       "4          0.0                  0.0  Northern America  ...  groups.google.com   \n",
       "5          0.0                  0.0  Northern America  ...             google   \n",
       "6          0.0                  0.0   Southern Europe  ...        youtube.com   \n",
       "\n",
       "  traffic_medium    keyword        referral_path new_bounced  \\\n",
       "0        organic  Category8              organic           0   \n",
       "1        organic  Category8              organic           1   \n",
       "2       (direct)   (direct)             (direct)           2   \n",
       "3      affiliate  affiliate            affiliate           2   \n",
       "4       referral   referral  Category6_Path_0000           1   \n",
       "5            cpc  Category9                  cpc           1   \n",
       "6       referral   referral  Category7_Path_0001           2   \n",
       "\n",
       "   quality/duration  duration/quality  quality/transaction  \\\n",
       "0          1.408453          1.432677                  1.0   \n",
       "1          1.195266          1.905063                  1.0   \n",
       "2          1.000000          1.000000                  1.0   \n",
       "3          1.000000          1.000000                  1.0   \n",
       "4          1.000000          1.000000                  1.0   \n",
       "5          1.000000          1.000000                  1.0   \n",
       "6          1.000000          1.000000                  1.0   \n",
       "\n",
       "   duration/transaction  per amount  \n",
       "0                   1.0         1.0  \n",
       "1                   1.0         1.0  \n",
       "2                   1.0         1.0  \n",
       "3                   1.0         1.0  \n",
       "4                   1.0         1.0  \n",
       "5                   1.0         1.0  \n",
       "6                   1.0         1.0  \n",
       "\n",
       "[7 rows x 21 columns]"
      ]
     },
     "execution_count": 40,
     "metadata": {},
     "output_type": "execute_result"
    }
   ],
   "source": [
    "df_train.info()\n",
    "df_train.head(7)"
   ]
  },
  {
   "cell_type": "markdown",
   "metadata": {},
   "source": [
    "### object type를 category type로 변경 후 label 분리"
   ]
  },
  {
   "cell_type": "code",
   "execution_count": 41,
   "metadata": {},
   "outputs": [],
   "source": [
    "categorical_features = [\n",
    "\"browser\",\n",
    "\"OS\",\n",
    "\"device\",\n",
    "\"subcontinent\",\n",
    "\"country\",\n",
    "\"traffic_source\",\n",
    "\"traffic_medium\",\n",
    "'keyword', \n",
    "'referral_path'\n",
    "]\n",
    "for i in categorical_features:\n",
    "    df_train[i] = df_train[i].astype('category')\n",
    "    df_test[i] = df_test[i].astype('category')\n",
    "\n",
    "x_train = df_train.drop('TARGET', axis=1)\n",
    "y_train = df_train['TARGET']\n",
    "train_pool = Pool(data=x_train, label=y_train, cat_features=categorical_features)"
   ]
  },
  {
   "cell_type": "markdown",
   "metadata": {},
   "source": [
    "### 모델 정의 후 학습"
   ]
  },
  {
   "cell_type": "code",
   "execution_count": 42,
   "metadata": {},
   "outputs": [
    {
     "data": {
      "text/plain": [
       "<catboost.core.CatBoostRegressor at 0x7fb26c2deb50>"
      ]
     },
     "execution_count": 42,
     "metadata": {},
     "output_type": "execute_result"
    }
   ],
   "source": [
    "clf = CatBoostRegressor(random_state=seed, verbose=False)\n",
    "clf.fit(train_pool)"
   ]
  },
  {
   "cell_type": "markdown",
   "metadata": {},
   "source": [
    "### 테스트 데이터 예측"
   ]
  },
  {
   "cell_type": "code",
   "execution_count": 43,
   "metadata": {},
   "outputs": [
    {
     "data": {
      "text/plain": [
       "array([27.84149461,  1.02032729,  2.67091399, ...,  2.58598422,\n",
       "        4.71000193,  1.03800345])"
      ]
     },
     "execution_count": 43,
     "metadata": {},
     "output_type": "execute_result"
    }
   ],
   "source": [
    "test_pool = Pool(data=df_test, cat_features=categorical_features)\n",
    "pred = clf.predict(test_pool)\n",
    "pred"
   ]
  },
  {
   "cell_type": "code",
   "execution_count": 44,
   "metadata": {},
   "outputs": [
    {
     "data": {
      "text/plain": [
       "Text(0.5, 1.0, 'Feature Importance')"
      ]
     },
     "execution_count": 44,
     "metadata": {},
     "output_type": "execute_result"
    },
    {
     "data": {
      "image/png": "[encoded data removed]",
      "text/plain": [
       "<Figure size 864x432 with 1 Axes>"
      ]
     },
     "metadata": {
      "needs_background": "light"
     },
     "output_type": "display_data"
    }
   ],
   "source": [
    "from matplotlib import pyplot as plt\n",
    "import seaborn as sns\n",
    "\n",
    "\n",
    "feature_importance = clf.feature_importances_\n",
    "sorted_idx = np.argsort(feature_importance)\n",
    "fig = plt.figure(figsize=(12, 6))\n",
    "plt.barh(range(len(sorted_idx)), feature_importance[sorted_idx], align='center')\n",
    "plt.yticks(range(len(sorted_idx)), np.array(df_test.columns)[sorted_idx])\n",
    "plt.title('Feature Importance')\n"
   ]
  },
  {
   "cell_type": "markdown",
   "metadata": {},
   "source": [
    "### 0보다 작은 값 보정"
   ]
  },
  {
   "cell_type": "code",
   "execution_count": 45,
   "metadata": {},
   "outputs": [],
   "source": [
    "pred = [1 if i < 1 else i for i in pred]\n"
   ]
  },
  {
   "cell_type": "markdown",
   "metadata": {},
   "source": [
    "### csv파일에 예측값 입력 후 제출"
   ]
  },
  {
   "cell_type": "code",
   "execution_count": 46,
   "metadata": {},
   "outputs": [],
   "source": [
    "df_submit = pd.read_csv('sample_submission.csv')\n",
    "df_submit['TARGET'] = pred"
   ]
  },
  {
   "cell_type": "code",
   "execution_count": 47,
   "metadata": {},
   "outputs": [
    {
     "data": {
      "text/html": [
       "<div>\n",
       "<style scoped>\n",
       "    .dataframe tbody tr th:only-of-type {\n",
       "        vertical-align: middle;\n",
       "    }\n",
       "\n",
       "    .dataframe tbody tr th {\n",
       "        vertical-align: top;\n",
       "    }\n",
       "\n",
       "    .dataframe thead th {\n",
       "        text-align: right;\n",
       "    }\n",
       "</style>\n",
       "<table border=\"1\" class=\"dataframe\">\n",
       "  <thead>\n",
       "    <tr style=\"text-align: right;\">\n",
       "      <th></th>\n",
       "      <th>sessionID</th>\n",
       "      <th>TARGET</th>\n",
       "    </tr>\n",
       "  </thead>\n",
       "  <tbody>\n",
       "    <tr>\n",
       "      <th>0</th>\n",
       "      <td>SESSION_252289</td>\n",
       "      <td>27.841495</td>\n",
       "    </tr>\n",
       "    <tr>\n",
       "      <th>1</th>\n",
       "      <td>SESSION_252290</td>\n",
       "      <td>1.020327</td>\n",
       "    </tr>\n",
       "    <tr>\n",
       "      <th>2</th>\n",
       "      <td>SESSION_252291</td>\n",
       "      <td>2.670914</td>\n",
       "    </tr>\n",
       "    <tr>\n",
       "      <th>3</th>\n",
       "      <td>SESSION_252292</td>\n",
       "      <td>4.311597</td>\n",
       "    </tr>\n",
       "    <tr>\n",
       "      <th>4</th>\n",
       "      <td>SESSION_252293</td>\n",
       "      <td>10.568730</td>\n",
       "    </tr>\n",
       "  </tbody>\n",
       "</table>\n",
       "</div>"
      ],
      "text/plain": [
       "        sessionID     TARGET\n",
       "0  SESSION_252289  27.841495\n",
       "1  SESSION_252290   1.020327\n",
       "2  SESSION_252291   2.670914\n",
       "3  SESSION_252292   4.311597\n",
       "4  SESSION_252293  10.568730"
      ]
     },
     "execution_count": 47,
     "metadata": {},
     "output_type": "execute_result"
    }
   ],
   "source": [
    "df_submit.head()"
   ]
  },
  {
   "cell_type": "code",
   "execution_count": 48,
   "metadata": {},
   "outputs": [],
   "source": [
    "df_submit.to_csv(\"sample_submission.csv\", index=False)"
   ]
  }
 ],
 "metadata": {
  "kernelspec": {
   "display_name": "jy",
   "language": "python",
   "name": "python3"
  },
  "language_info": {
   "codemirror_mode": {
    "name": "ipython",
    "version": 3
   },
   "file_extension": ".py",
   "mimetype": "text/x-python",
   "name": "python",
   "nbconvert_exporter": "python",
   "pygments_lexer": "ipython3",
   "version": "3.8.10"
  }
 },
 "nbformat": 4,
 "nbformat_minor": 2
}
