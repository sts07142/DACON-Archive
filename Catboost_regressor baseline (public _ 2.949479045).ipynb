{
 "cells": [
  {
   "cell_type": "markdown",
   "metadata": {},
   "source": [
    "### 라이브러리 임포트"
   ]
  },
  {
   "cell_type": "code",
   "execution_count": 33,
   "metadata": {},
   "outputs": [],
   "source": [
    "import pandas as pd\n",
    "import numpy as np\n",
    "import random\n",
    "import os\n",
    "from catboost import CatBoostRegressor, Pool"
   ]
  },
  {
   "cell_type": "markdown",
   "metadata": {},
   "source": [
    "### 시드고정"
   ]
  },
  {
   "cell_type": "code",
   "execution_count": 34,
   "metadata": {},
   "outputs": [],
   "source": [
    "def seed_everything(seed):\n",
    "    random.seed(seed)\n",
    "    os.environ['PYTHONHASHSEED'] = str(seed)\n",
    "    np.random.seed(seed)\n",
    "    \n",
    "seed=42\n",
    "seed_everything(seed) # Seed 고정"
   ]
  },
  {
   "cell_type": "markdown",
   "metadata": {},
   "source": [
    "### 데이터 불러오기 & column제거"
   ]
  },
  {
   "cell_type": "code",
   "execution_count": 35,
   "metadata": {},
   "outputs": [],
   "source": [
    "df_train = pd.read_csv('train.csv')\n",
    "df_test = pd.read_csv('test.csv')\n",
    "df_train = df_train.drop(['sessionID','userID'],axis=1)\n",
    "df_test = df_test.drop(['sessionID','userID'],axis=1)"
   ]
  },
  {
   "cell_type": "code",
   "execution_count": 36,
   "metadata": {},
   "outputs": [
    {
     "name": "stdout",
     "output_type": "stream",
     "text": [
      "<class 'pandas.core.frame.DataFrame'>\n",
      "RangeIndex: 252289 entries, 0 to 252288\n",
      "Data columns (total 17 columns):\n",
      " #   Column               Non-Null Count   Dtype  \n",
      "---  ------               --------------   -----  \n",
      " 0   TARGET               252289 non-null  float64\n",
      " 1   browser              252289 non-null  object \n",
      " 2   OS                   252289 non-null  object \n",
      " 3   device               252289 non-null  object \n",
      " 4   new                  252289 non-null  int64  \n",
      " 5   quality              252289 non-null  float64\n",
      " 6   duration             252289 non-null  float64\n",
      " 7   bounced              252289 non-null  int64  \n",
      " 8   transaction          252289 non-null  float64\n",
      " 9   transaction_revenue  252289 non-null  float64\n",
      " 10  continent            252289 non-null  object \n",
      " 11  subcontinent         252289 non-null  object \n",
      " 12  country              252289 non-null  object \n",
      " 13  traffic_source       252289 non-null  object \n",
      " 14  traffic_medium       252289 non-null  object \n",
      " 15  keyword              114614 non-null  object \n",
      " 16  referral_path        91182 non-null   object \n",
      "dtypes: float64(5), int64(2), object(10)\n",
      "memory usage: 32.7+ MB\n"
     ]
    }
   ],
   "source": [
    "df_train.info()"
   ]
  },
  {
   "cell_type": "markdown",
   "metadata": {},
   "source": [
    "### nan값 채우기"
   ]
  },
  {
   "cell_type": "code",
   "execution_count": 37,
   "metadata": {},
   "outputs": [],
   "source": [
    "df_train.fillna('NAN', inplace=True)\n",
    "df_test.fillna('NAN', inplace=True)\n"
   ]
  },
  {
   "cell_type": "code",
   "execution_count": 38,
   "metadata": {},
   "outputs": [
    {
     "name": "stderr",
     "output_type": "stream",
     "text": [
      "<ipython-input-38-8739bd40fb1e>:3: FutureWarning: The default value of regex will change from True to False in a future version.\n",
      "  df_train['keyword'] = df_train['keyword'].str.replace(r'Category(\\d+)', r'\\1')\n",
      "<ipython-input-38-8739bd40fb1e>:4: FutureWarning: The default value of regex will change from True to False in a future version.\n",
      "  df_test['keyword'] = df_test['keyword'].str.replace(r'Category(\\d+)', r'\\1')\n",
      "<ipython-input-38-8739bd40fb1e>:9: FutureWarning: The default value of regex will change from True to False in a future version.\n",
      "  df_train['referral_path'] = df_train['referral_path'].str.replace(r'Category(\\d+)', r'\\1')\n",
      "<ipython-input-38-8739bd40fb1e>:10: FutureWarning: The default value of regex will change from True to False in a future version.\n",
      "  df_test['referral_path'] = df_test['referral_path'].str.replace(r'Category(\\d+)', r'\\1')\n"
     ]
    }
   ],
   "source": [
    "import re\n",
    "\n",
    "df_train['keyword'] = df_train['keyword'].str.replace(r'Category(\\d+)', r'\\1')\n",
    "df_test['keyword'] = df_test['keyword'].str.replace(r'Category(\\d+)', r'\\1')\n",
    "\n",
    "df_train['keyword'] = df_train['keyword'].apply(lambda x: x.split('_')[0] if '_' in x else x)\n",
    "df_test['keyword'] = df_test['keyword'].apply(lambda x: x.split('_')[0] if '_' in x else x)\n",
    "\n",
    "df_train['referral_path'] = df_train['referral_path'].str.replace(r'Category(\\d+)', r'\\1')\n",
    "df_test['referral_path'] = df_test['referral_path'].str.replace(r'Category(\\d+)', r'\\1')\n",
    "\n",
    "df_train['referral_path'] = df_train['referral_path'].apply(lambda x: x.split('_')[0] if '_' in x else x)\n",
    "df_test['referral_path'] = df_test['referral_path'].apply(lambda x: x.split('_')[0] if '_' in x else x)"
   ]
  },
  {
   "cell_type": "code",
   "execution_count": 39,
   "metadata": {},
   "outputs": [],
   "source": [
    "\n",
    "df_train['from'] = df_train['keyword'] + '_' + df_train['referral_path']\n",
    "df_train['from'] = df_train['from'].apply(lambda x: re.sub(r'\\D+', '', x) if re.search(r'\\d', x) else 'NAN')\n",
    "\n",
    "df_test['from'] = df_test['keyword'] + '_' + df_test['referral_path']\n",
    "df_test['from'] = df_test['from'].apply(lambda x: re.sub(r'\\D+', '', x) if re.search(r'\\d', x) else 'NAN')\n"
   ]
  },
  {
   "cell_type": "code",
   "execution_count": 40,
   "metadata": {},
   "outputs": [],
   "source": [
    "# df_train = df_train.drop(['keyword', 'referral_path'], axis=1)\n",
    "# df_test = df_test.drop(['keyword', 'referral_path'], axis=1)\n"
   ]
  },
  {
   "cell_type": "markdown",
   "metadata": {},
   "source": [
    "### object type를 category type로 변경 후 label 분리"
   ]
  },
  {
   "cell_type": "code",
   "execution_count": 41,
   "metadata": {},
   "outputs": [],
   "source": [
    "categorical_features = [\n",
    "\"browser\",\n",
    "\"OS\",\n",
    "\"device\",\n",
    "\"continent\",\n",
    "\"subcontinent\",\n",
    "\"country\",\n",
    "\"traffic_source\",\n",
    "\"traffic_medium\",\n",
    "\"from\",\n",
    "'keyword', \n",
    "'referral_path'\n",
    "]\n",
    "for i in categorical_features:\n",
    "    df_train[i] = df_train[i].astype('category')\n",
    "    df_test[i] = df_test[i].astype('category')\n",
    "\n",
    "x_train = df_train.drop('TARGET', axis=1)\n",
    "y_train = df_train['TARGET']\n",
    "train_pool = Pool(data=x_train, label=y_train, cat_features=categorical_features)"
   ]
  },
  {
   "cell_type": "markdown",
   "metadata": {},
   "source": [
    "### 모델 정의 후 학습"
   ]
  },
  {
   "cell_type": "code",
   "execution_count": 42,
   "metadata": {},
   "outputs": [
    {
     "data": {
      "text/plain": [
       "<catboost.core.CatBoostRegressor at 0x7f8dadc8ea60>"
      ]
     },
     "execution_count": 42,
     "metadata": {},
     "output_type": "execute_result"
    }
   ],
   "source": [
    "clf = CatBoostRegressor(random_state=seed, verbose=False)\n",
    "clf.fit(train_pool)"
   ]
  },
  {
   "cell_type": "markdown",
   "metadata": {},
   "source": [
    "### 테스트 데이터 예측"
   ]
  },
  {
   "cell_type": "code",
   "execution_count": 43,
   "metadata": {},
   "outputs": [
    {
     "data": {
      "text/plain": [
       "array([27.49708697,  1.00639068,  2.60671601, ...,  2.73514667,\n",
       "        4.90680834,  1.0174196 ])"
      ]
     },
     "execution_count": 43,
     "metadata": {},
     "output_type": "execute_result"
    }
   ],
   "source": [
    "test_pool = Pool(data=df_test, cat_features=categorical_features)\n",
    "pred = clf.predict(test_pool)\n",
    "pred"
   ]
  },
  {
   "cell_type": "markdown",
   "metadata": {},
   "source": [
    "### 0보다 작은 값을 0으로 보정"
   ]
  },
  {
   "cell_type": "code",
   "execution_count": 44,
   "metadata": {},
   "outputs": [],
   "source": [
    "pred = [0 if i < 0 else i for i in pred]\n",
    "# pred = [round(i) if i < 0 else round(i) for i in pred]\n"
   ]
  },
  {
   "cell_type": "markdown",
   "metadata": {},
   "source": [
    "### csv파일에 예측값 입력 후 제출"
   ]
  },
  {
   "cell_type": "code",
   "execution_count": 45,
   "metadata": {},
   "outputs": [],
   "source": [
    "df_submit = pd.read_csv('sample_submission.csv')\n",
    "df_submit['TARGET'] = pred"
   ]
  },
  {
   "cell_type": "code",
   "execution_count": 46,
   "metadata": {},
   "outputs": [
    {
     "data": {
      "text/html": [
       "<div>\n",
       "<style scoped>\n",
       "    .dataframe tbody tr th:only-of-type {\n",
       "        vertical-align: middle;\n",
       "    }\n",
       "\n",
       "    .dataframe tbody tr th {\n",
       "        vertical-align: top;\n",
       "    }\n",
       "\n",
       "    .dataframe thead th {\n",
       "        text-align: right;\n",
       "    }\n",
       "</style>\n",
       "<table border=\"1\" class=\"dataframe\">\n",
       "  <thead>\n",
       "    <tr style=\"text-align: right;\">\n",
       "      <th></th>\n",
       "      <th>sessionID</th>\n",
       "      <th>TARGET</th>\n",
       "    </tr>\n",
       "  </thead>\n",
       "  <tbody>\n",
       "    <tr>\n",
       "      <th>0</th>\n",
       "      <td>SESSION_252289</td>\n",
       "      <td>27</td>\n",
       "    </tr>\n",
       "    <tr>\n",
       "      <th>1</th>\n",
       "      <td>SESSION_252290</td>\n",
       "      <td>1</td>\n",
       "    </tr>\n",
       "    <tr>\n",
       "      <th>2</th>\n",
       "      <td>SESSION_252291</td>\n",
       "      <td>3</td>\n",
       "    </tr>\n",
       "    <tr>\n",
       "      <th>3</th>\n",
       "      <td>SESSION_252292</td>\n",
       "      <td>4</td>\n",
       "    </tr>\n",
       "    <tr>\n",
       "      <th>4</th>\n",
       "      <td>SESSION_252293</td>\n",
       "      <td>11</td>\n",
       "    </tr>\n",
       "  </tbody>\n",
       "</table>\n",
       "</div>"
      ],
      "text/plain": [
       "        sessionID  TARGET\n",
       "0  SESSION_252289      27\n",
       "1  SESSION_252290       1\n",
       "2  SESSION_252291       3\n",
       "3  SESSION_252292       4\n",
       "4  SESSION_252293      11"
      ]
     },
     "execution_count": 46,
     "metadata": {},
     "output_type": "execute_result"
    }
   ],
   "source": [
    "df_submit.head()"
   ]
  },
  {
   "cell_type": "code",
   "execution_count": 47,
   "metadata": {},
   "outputs": [],
   "source": [
    "df_submit.to_csv(\"sample_submission.csv\", index=False)"
   ]
  }
 ],
 "metadata": {
  "kernelspec": {
   "display_name": "jy",
   "language": "python",
   "name": "python3"
  },
  "language_info": {
   "codemirror_mode": {
    "name": "ipython",
    "version": 3
   },
   "file_extension": ".py",
   "mimetype": "text/x-python",
   "name": "python",
   "nbconvert_exporter": "python",
   "pygments_lexer": "ipython3",
   "version": "3.8.10"
  }
 },
 "nbformat": 4,
 "nbformat_minor": 2
}
