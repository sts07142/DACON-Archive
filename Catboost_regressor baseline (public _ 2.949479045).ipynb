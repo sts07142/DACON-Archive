{
 "cells": [
  {
   "cell_type": "markdown",
   "metadata": {},
   "source": [
    "### 라이브러리 임포트"
   ]
  },
  {
   "cell_type": "code",
   "execution_count": 46,
   "metadata": {},
   "outputs": [],
   "source": [
    "import pandas as pd\n",
    "import numpy as np\n",
    "import random\n",
    "import os\n",
    "from catboost import CatBoostRegressor, Pool"
   ]
  },
  {
   "cell_type": "markdown",
   "metadata": {},
   "source": [
    "### 시드고정"
   ]
  },
  {
   "cell_type": "code",
   "execution_count": 47,
   "metadata": {},
   "outputs": [],
   "source": [
    "def seed_everything(seed):\n",
    "    random.seed(seed)\n",
    "    os.environ['PYTHONHASHSEED'] = str(seed)\n",
    "    np.random.seed(seed)\n",
    "    \n",
    "seed=42\n",
    "seed_everything(seed) # Seed 고정"
   ]
  },
  {
   "cell_type": "markdown",
   "metadata": {},
   "source": [
    "### 데이터 불러오기 & column제거"
   ]
  },
  {
   "cell_type": "code",
   "execution_count": 48,
   "metadata": {},
   "outputs": [],
   "source": [
    "df_train = pd.read_csv('train.csv')\n",
    "df_test = pd.read_csv('test.csv')\n",
    "df_train = df_train.drop(['sessionID','userID'],axis=1)\n",
    "df_test = df_test.drop(['sessionID','userID'],axis=1)"
   ]
  },
  {
   "cell_type": "markdown",
   "metadata": {},
   "source": [
    "### nan값 채우기"
   ]
  },
  {
   "cell_type": "code",
   "execution_count": 50,
   "metadata": {},
   "outputs": [],
   "source": [
    "df_train.fillna('NAN', inplace=True)\n",
    "df_test.fillna('NAN', inplace=True)"
   ]
  },
  {
   "cell_type": "code",
   "execution_count": 51,
   "metadata": {},
   "outputs": [],
   "source": [
    "df_train['new_bounced'] = df_train['new'] + df_train['bounced']\n",
    "df_test['new_bounced'] = df_test['new'] + df_test['bounced']\n",
    "\n",
    "df_train['quality/duration'] = np.where(df_train['duration'] == 0, 0, df_train['quality'] / df_train['duration'])\n",
    "df_test['quality/duration'] = np.where(df_test['duration'] == 0, 0, df_test['quality'] / df_test['duration'])\n",
    "\n",
    "df_train['quality/transaction'] = np.where(df_train['transaction'] == 0, 0, df_train['quality'] / df_train['transaction'])\n",
    "df_test['quality/transaction'] = np.where(df_test['transaction'] == 0, 0, df_test['quality'] / df_test['transaction'])\n",
    "\n",
    "df_train['transaction/duration'] = np.where(df_train['duration'] == 0, 0, df_train['transaction'] / df_train['duration'])\n",
    "df_test['transaction/duration'] = np.where(df_test['duration'] == 0, 0, df_test['transaction'] / df_test['duration'])"
   ]
  },
  {
   "cell_type": "code",
   "execution_count": 62,
   "metadata": {},
   "outputs": [
    {
     "name": "stdout",
     "output_type": "stream",
     "text": [
      "<class 'pandas.core.frame.DataFrame'>\n",
      "RangeIndex: 252289 entries, 0 to 252288\n",
      "Data columns (total 20 columns):\n",
      " #   Column                Non-Null Count   Dtype   \n",
      "---  ------                --------------   -----   \n",
      " 0   TARGET                252289 non-null  float64 \n",
      " 1   browser               252289 non-null  category\n",
      " 2   OS                    252289 non-null  category\n",
      " 3   device                252289 non-null  category\n",
      " 4   new                   252289 non-null  int64   \n",
      " 5   quality               252289 non-null  float64 \n",
      " 6   duration              252289 non-null  float64 \n",
      " 7   bounced               252289 non-null  int64   \n",
      " 8   transaction           252289 non-null  float64 \n",
      " 9   transaction_revenue   252289 non-null  float64 \n",
      " 10  continent             252289 non-null  category\n",
      " 11  subcontinent          252289 non-null  category\n",
      " 12  country               252289 non-null  category\n",
      " 13  traffic_source        252289 non-null  category\n",
      " 14  traffic_medium        252289 non-null  category\n",
      " 15  keyword               252289 non-null  category\n",
      " 16  referral_path         252289 non-null  category\n",
      " 17  new_bounced           252289 non-null  int64   \n",
      " 18  quality/transaction   252289 non-null  float64 \n",
      " 19  transaction/duration  252289 non-null  float64 \n",
      "dtypes: category(10), float64(7), int64(3)\n",
      "memory usage: 22.7 MB\n"
     ]
    }
   ],
   "source": [
    "df_train.info()"
   ]
  },
  {
   "cell_type": "code",
   "execution_count": 52,
   "metadata": {},
   "outputs": [],
   "source": [
    "# import re\n",
    "\n",
    "# df_train['keyword'] = df_train['keyword'].str.replace(r'Category(\\d+)', r'\\1')\n",
    "# df_test['keyword'] = df_test['keyword'].str.replace(r'Category(\\d+)', r'\\1')\n",
    "\n",
    "# df_train['keyword'] = df_train['keyword'].apply(lambda x: x.split('_')[0] if '_' in x else x)\n",
    "# df_test['keyword'] = df_test['keyword'].apply(lambda x: x.split('_')[0] if '_' in x else x)\n",
    "\n",
    "# df_train['referral_path'] = df_train['referral_path'].str.replace(r'Category(\\d+)', r'\\1')\n",
    "# df_test['referral_path'] = df_test['referral_path'].str.replace(r'Category(\\d+)', r'\\1')\n",
    "\n",
    "# df_train['referral_path'] = df_train['referral_path'].apply(lambda x: x.split('_')[0] if '_' in x else x)\n",
    "# df_test['referral_path'] = df_test['referral_path'].apply(lambda x: x.split('_')[0] if '_' in x else x)"
   ]
  },
  {
   "cell_type": "code",
   "execution_count": 53,
   "metadata": {},
   "outputs": [],
   "source": [
    "\n",
    "# df_train['from'] = df_train['keyword'] + '_' + df_train['referral_path']\n",
    "# df_train['from'] = df_train['from'].apply(lambda x: re.sub(r'\\D+', '', x) if re.search(r'\\d', x) else 'NAN')\n",
    "\n",
    "# df_test['from'] = df_test['keyword'] + '_' + df_test['referral_path']\n",
    "# df_test['from'] = df_test['from'].apply(lambda x: re.sub(r'\\D+', '', x) if re.search(r'\\d', x) else 'NAN')\n"
   ]
  },
  {
   "cell_type": "code",
   "execution_count": 54,
   "metadata": {},
   "outputs": [],
   "source": [
    "# df_train = df_train.drop(['keyword', 'referral_path'], axis=1)\n",
    "# df_test = df_test.drop(['keyword', 'referral_path'], axis=1)\n"
   ]
  },
  {
   "cell_type": "markdown",
   "metadata": {},
   "source": [
    "### object type를 category type로 변경 후 label 분리"
   ]
  },
  {
   "cell_type": "code",
   "execution_count": 55,
   "metadata": {},
   "outputs": [],
   "source": [
    "categorical_features = [\n",
    "\"browser\",\n",
    "\"OS\",\n",
    "\"device\",\n",
    "\"continent\",\n",
    "\"subcontinent\",\n",
    "\"country\",\n",
    "\"traffic_source\",\n",
    "\"traffic_medium\",\n",
    "'keyword', \n",
    "'referral_path'\n",
    "]\n",
    "for i in categorical_features:\n",
    "    df_train[i] = df_train[i].astype('category')\n",
    "    df_test[i] = df_test[i].astype('category')\n",
    "\n",
    "x_train = df_train.drop('TARGET', axis=1)\n",
    "y_train = df_train['TARGET']\n",
    "train_pool = Pool(data=x_train, label=y_train, cat_features=categorical_features)"
   ]
  },
  {
   "cell_type": "markdown",
   "metadata": {},
   "source": [
    "### 모델 정의 후 학습"
   ]
  },
  {
   "cell_type": "code",
   "execution_count": 56,
   "metadata": {},
   "outputs": [
    {
     "data": {
      "text/plain": [
       "<catboost.core.CatBoostRegressor at 0x7f38aca8dfd0>"
      ]
     },
     "execution_count": 56,
     "metadata": {},
     "output_type": "execute_result"
    }
   ],
   "source": [
    "clf = CatBoostRegressor(random_state=seed, verbose=False)\n",
    "clf.fit(train_pool)"
   ]
  },
  {
   "cell_type": "markdown",
   "metadata": {},
   "source": [
    "### 테스트 데이터 예측"
   ]
  },
  {
   "cell_type": "code",
   "execution_count": 57,
   "metadata": {},
   "outputs": [
    {
     "data": {
      "text/plain": [
       "array([26.66222141,  1.01109077,  2.89400158, ...,  2.74806942,\n",
       "        4.98645477,  1.0577654 ])"
      ]
     },
     "execution_count": 57,
     "metadata": {},
     "output_type": "execute_result"
    }
   ],
   "source": [
    "test_pool = Pool(data=df_test, cat_features=categorical_features)\n",
    "pred = clf.predict(test_pool)\n",
    "pred"
   ]
  },
  {
   "cell_type": "markdown",
   "metadata": {},
   "source": [
    "### 0보다 작은 값 보정"
   ]
  },
  {
   "cell_type": "code",
   "execution_count": 58,
   "metadata": {},
   "outputs": [],
   "source": [
    "pred = [1 if i < 1 else i for i in pred]\n"
   ]
  },
  {
   "cell_type": "markdown",
   "metadata": {},
   "source": [
    "### csv파일에 예측값 입력 후 제출"
   ]
  },
  {
   "cell_type": "code",
   "execution_count": 59,
   "metadata": {},
   "outputs": [],
   "source": [
    "df_submit = pd.read_csv('sample_submission.csv')\n",
    "df_submit['TARGET'] = pred"
   ]
  },
  {
   "cell_type": "code",
   "execution_count": 60,
   "metadata": {},
   "outputs": [
    {
     "data": {
      "text/html": [
       "<div>\n",
       "<style scoped>\n",
       "    .dataframe tbody tr th:only-of-type {\n",
       "        vertical-align: middle;\n",
       "    }\n",
       "\n",
       "    .dataframe tbody tr th {\n",
       "        vertical-align: top;\n",
       "    }\n",
       "\n",
       "    .dataframe thead th {\n",
       "        text-align: right;\n",
       "    }\n",
       "</style>\n",
       "<table border=\"1\" class=\"dataframe\">\n",
       "  <thead>\n",
       "    <tr style=\"text-align: right;\">\n",
       "      <th></th>\n",
       "      <th>sessionID</th>\n",
       "      <th>TARGET</th>\n",
       "    </tr>\n",
       "  </thead>\n",
       "  <tbody>\n",
       "    <tr>\n",
       "      <th>0</th>\n",
       "      <td>SESSION_252289</td>\n",
       "      <td>26.662221</td>\n",
       "    </tr>\n",
       "    <tr>\n",
       "      <th>1</th>\n",
       "      <td>SESSION_252290</td>\n",
       "      <td>1.011091</td>\n",
       "    </tr>\n",
       "    <tr>\n",
       "      <th>2</th>\n",
       "      <td>SESSION_252291</td>\n",
       "      <td>2.894002</td>\n",
       "    </tr>\n",
       "    <tr>\n",
       "      <th>3</th>\n",
       "      <td>SESSION_252292</td>\n",
       "      <td>4.178733</td>\n",
       "    </tr>\n",
       "    <tr>\n",
       "      <th>4</th>\n",
       "      <td>SESSION_252293</td>\n",
       "      <td>10.108767</td>\n",
       "    </tr>\n",
       "  </tbody>\n",
       "</table>\n",
       "</div>"
      ],
      "text/plain": [
       "        sessionID     TARGET\n",
       "0  SESSION_252289  26.662221\n",
       "1  SESSION_252290   1.011091\n",
       "2  SESSION_252291   2.894002\n",
       "3  SESSION_252292   4.178733\n",
       "4  SESSION_252293  10.108767"
      ]
     },
     "execution_count": 60,
     "metadata": {},
     "output_type": "execute_result"
    }
   ],
   "source": [
    "df_submit.head()"
   ]
  },
  {
   "cell_type": "code",
   "execution_count": 61,
   "metadata": {},
   "outputs": [],
   "source": [
    "df_submit.to_csv(\"sample_submission.csv\", index=False)"
   ]
  }
 ],
 "metadata": {
  "kernelspec": {
   "display_name": "jy",
   "language": "python",
   "name": "python3"
  },
  "language_info": {
   "codemirror_mode": {
    "name": "ipython",
    "version": 3
   },
   "file_extension": ".py",
   "mimetype": "text/x-python",
   "name": "python",
   "nbconvert_exporter": "python",
   "pygments_lexer": "ipython3",
   "version": "3.8.10"
  }
 },
 "nbformat": 4,
 "nbformat_minor": 2
}
