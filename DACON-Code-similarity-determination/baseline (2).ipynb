{
 "cells": [
  {
   "cell_type": "markdown",
   "id": "199be930-7e11-43f4-b056-a52fc1a93dc8",
   "metadata": {},
   "source": [
    "## Import"
   ]
  },
  {
   "cell_type": "code",
   "execution_count": null,
   "id": "94dc6b5c-f92a-403d-a6f0-599f712dd15b",
   "metadata": {},
   "outputs": [],
   "source": [
    "import pandas as pd\n",
    "import numpy as np\n",
    "import glob\n",
    "from sklearn.feature_extraction.text import CountVectorizer\n",
    "from sklearn.metrics.pairwise import cosine_similarity\n",
    "from tqdm import tqdm\n",
    "\n",
    "from transformers import *\n",
    "from torch.utils.data import TensorDataset, DataLoader, RandomSampler, SequentialSampler\n",
    "from setproctitle import setproctitle\n",
    "from sklearn.model_selection import train_test_split\n",
    "from itertools import combinations\n",
    "from rank_bm25 import BM25L\n",
    "\n",
    "import torch\n",
    "import torch.nn as nn\n",
    "import random\n",
    "import time\n",
    "import datetime\n",
    "import os, re\n",
    "import argparse"
   ]
  },
  {
   "cell_type": "markdown",
   "id": "3574acd8-517e-4fd2-ae11-cbe2e3b10d33",
   "metadata": {},
   "source": [
    "## Load Train / Test dataset"
   ]
  },
  {
   "cell_type": "code",
   "execution_count": null,
   "id": "fa791ae7-c9bb-4bcb-9228-41acbb9acecd",
   "metadata": {},
   "outputs": [],
   "source": [
    "# 추가로 주어지는 Python Code 데이터들을 활용하여 새로운 Pair 쌍을 생성하여 더 많은 데이터로 학습할 수 있습니다.\n",
    "# 베이스라인에서는 이미 Pair 쌍으로 구축되어 주어지는 sample 데이터들로 검증을 진행합니다.\n",
    "val = pd.read_csv(\"./sample_train.csv\")\n",
    "val.head()"
   ]
  },
  {
   "cell_type": "code",
   "execution_count": null,
   "id": "ed61918b-271b-485b-9e6e-2a871ea24df9",
   "metadata": {},
   "outputs": [],
   "source": [
    "test = pd.read_csv(\"./test.csv\")\n",
    "test.head()"
   ]
  },
  {
   "cell_type": "markdown",
   "id": "f20415d1-d28f-4e80-b338-7854505808ba",
   "metadata": {},
   "source": [
    "## Define Model (CountVectorizer+CosineSimilarity)"
   ]
  },
  {
   "cell_type": "code",
   "execution_count": null,
   "id": "b02370cd-3cbc-433d-9dfe-d6f038a9167c",
   "metadata": {},
   "outputs": [],
   "source": [
    "class BaselineModel():\n",
    "    def __init__(self, threshold=0.5):\n",
    "        super(BaselineModel, self).__init__()\n",
    "        self.threshold = threshold # 유사도 임계값\n",
    "        self.vocabulary = set()\n",
    "\n",
    "    def get_vectorizer(self):\n",
    "        return CountVectorizer(vocabulary=list(self.vocabulary))\n",
    "        \n",
    "    def fit(self, code):\n",
    "        # 입력 받은 학습 코드로 부터 vectorizer를 fit 시킵니다.\n",
    "        temp_vectorizer = CountVectorizer()\n",
    "        temp_vectorizer.fit(code)\n",
    "        # fit 호출 마다 vectorizer에 활용할 vocabulary 업데이트\n",
    "        self.vocabulary.update(temp_vectorizer.get_feature_names_out())\n",
    "        # fit 호출 마다 vectorizer 업데이트\n",
    "        self.vectorizer = self.get_vectorizer()\n",
    "    \n",
    "    def predict_proba(self, code1, code2):\n",
    "        # 입력 받은 코드 쌍으로 부터 vectorizer를 통해 vector화 합니다.\n",
    "        code1_vecs = self.vectorizer.transform(code1)\n",
    "        code2_vecs = self.vectorizer.transform(code2)\n",
    "        \n",
    "        preds = []\n",
    "        # 각각의 코드 쌍(=벡터 쌍)으로부터 cosine-similarity를 구합니다.\n",
    "        for code1_vec, code2_vec in tqdm(zip(code1_vecs, code2_vecs)):\n",
    "            preds.append(cosine_similarity(code1_vec, code2_vec))\n",
    "        \n",
    "        preds = np.reshape(preds, len(preds))\n",
    "        print('Done.')\n",
    "        # 각 코드 쌍들의 유사도를 반환\n",
    "        return preds\n",
    "    \n",
    "    def predict(self, code1, code2):\n",
    "        preds = self.predict_proba(code1, code2)\n",
    "        # cosine-similarity (유사도)가 설정한 임계값(Threshold=0.5)보다 높다면 유사하다 : 1, 아니라면 유사하지 않다 : 0\n",
    "        preds = np.where(preds>self.threshold, 1, 0)\n",
    "        # 각 코드 쌍들의 유사도를 Threshold를 통해 유사함을 판별 (이진분류)\n",
    "        return preds"
   ]
  },
  {
   "cell_type": "markdown",
   "id": "db119b87-c42f-49d2-af5e-e15ced996748",
   "metadata": {},
   "source": [
    "## Model(Vectorizer) Fit"
   ]
  },
  {
   "cell_type": "code",
   "execution_count": null,
   "id": "1364eb8c-bd23-47ae-b3ab-8979266ab432",
   "metadata": {},
   "outputs": [],
   "source": [
    "train_code_paths = glob.glob('./train_code/*/*.cpp')"
   ]
  },
  {
   "cell_type": "code",
   "execution_count": null,
   "id": "1e312037-5fd5-4701-8818-cea0a74e763c",
   "metadata": {},
   "outputs": [],
   "source": [
    "def read_cpp_code(file_path):\n",
    "    with open(file_path, 'r', encoding='utf-8') as file:\n",
    "        return file.read()"
   ]
  },
  {
   "cell_type": "code",
   "execution_count": null,
   "id": "3f5fec7f-31f1-4a9b-ad69-f3de45ef78be",
   "metadata": {},
   "outputs": [],
   "source": [
    "# 모델 선언\n",
    "model = BaselineModel(threshold=0.5)"
   ]
  },
  {
   "cell_type": "code",
   "execution_count": null,
   "id": "5151ae6c-8efc-4695-b372-40884c3b03e7",
   "metadata": {},
   "outputs": [],
   "source": [
    "for path in tqdm(train_code_paths):\n",
    "    code = read_cpp_code(path)\n",
    "    model.fit([code])"
   ]
  },
  {
   "cell_type": "code",
   "execution_count": null,
   "id": "e923a5ba-91ad-485f-b7e3-61b9479a191e",
   "metadata": {},
   "outputs": [],
   "source": [
    "len(model.vocabulary)"
   ]
  },
  {
   "cell_type": "markdown",
   "id": "8a589465-dd3c-4a25-90ee-1ee60307e2f4",
   "metadata": {},
   "source": [
    "## Validation"
   ]
  },
  {
   "cell_type": "code",
   "execution_count": null,
   "id": "55fef54f-6eba-4890-9c39-c26f6c24f62e",
   "metadata": {},
   "outputs": [],
   "source": [
    "def get_accuracy(gt, preds):\n",
    "    return (gt == preds).mean()"
   ]
  },
  {
   "cell_type": "code",
   "execution_count": null,
   "id": "b8f55fff-cb1a-4112-bca2-0702144df705",
   "metadata": {},
   "outputs": [],
   "source": [
    "val_preds = model.predict(val['code1'], val['code2'])"
   ]
  },
  {
   "cell_type": "code",
   "execution_count": null,
   "id": "2074e2a5-62ad-4f0d-ac6c-b1b8d3949157",
   "metadata": {},
   "outputs": [],
   "source": [
    "print(get_accuracy(val['similar'].values, val_preds))"
   ]
  },
  {
   "cell_type": "markdown",
   "id": "93981f67-bb59-41b9-b1d7-67af59f7e393",
   "metadata": {},
   "source": [
    "## Inference"
   ]
  },
  {
   "cell_type": "code",
   "execution_count": null,
   "id": "a8f82389-c08d-4b14-9b1e-d94d71ff214b",
   "metadata": {},
   "outputs": [],
   "source": [
    "# 모델 추론\n",
    "preds = model.predict(test['code1'], test['code2'])"
   ]
  },
  {
   "cell_type": "markdown",
   "id": "17e884cd-f9a8-4274-9a07-e1f4443ca51c",
   "metadata": {},
   "source": [
    "## Submission"
   ]
  },
  {
   "cell_type": "code",
   "execution_count": null,
   "id": "e9666a4d-922a-4eeb-a58b-db4ee3950f81",
   "metadata": {},
   "outputs": [],
   "source": [
    "submission = pd.read_csv('./sample_submission.csv')\n",
    "submission['similar'] = preds\n",
    "submission.to_csv('./base_submit.csv', index=False)"
   ]
  }
 ],
 "metadata": {
  "kernelspec": {
   "display_name": "Python 3",
   "language": "python",
   "name": "python3"
  },
  "language_info": {
   "codemirror_mode": {
    "name": "ipython",
    "version": 3
   },
   "file_extension": ".py",
   "mimetype": "text/x-python",
   "name": "python",
   "nbconvert_exporter": "python",
   "pygments_lexer": "ipython3",
   "version": "3.8.10"
  }
 },
 "nbformat": 4,
 "nbformat_minor": 5
}
