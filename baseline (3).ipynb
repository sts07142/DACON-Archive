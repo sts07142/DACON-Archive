{
 "cells": [
  {
   "cell_type": "markdown",
   "id": "cce34cd8-4e57-4eb1-a1e2-939dd24cb2b9",
   "metadata": {},
   "source": [
    "## Import"
   ]
  },
  {
   "cell_type": "code",
   "execution_count": 1,
   "id": "e452e8bf-53f1-4816-9d2b-75c9325dad0d",
   "metadata": {},
   "outputs": [],
   "source": [
    "import pandas as pd\n",
    "from sklearn.model_selection import GridSearchCV\n",
    "from sklearn.ensemble import RandomForestClassifier"
   ]
  },
  {
   "cell_type": "markdown",
   "id": "824eab87-9d21-46be-bb1a-e65e70d1608e",
   "metadata": {},
   "source": [
    "## Data Load"
   ]
  },
  {
   "cell_type": "code",
   "execution_count": 2,
   "id": "048c21d3-d45f-4541-a2b5-991392b5a8e9",
   "metadata": {},
   "outputs": [],
   "source": [
    "data = pd.read_csv('./train.csv')\n",
    "\n",
    "# person_id 컬럼 제거\n",
    "X_train = data.drop(['person_id', 'login'], axis=1)\n",
    "y_train = data['login']"
   ]
  },
  {
   "cell_type": "code",
   "execution_count": null,
   "id": "2084b429",
   "metadata": {},
   "outputs": [],
   "source": [
    "# n_estimators,criterion,max_depth,min_samples_split,min_samples_leaf,min_weight_fraction_leaf,max_features,max_leaf_nodes,min_impurity_decrease,bootstrap\n",
    "# n_estimators : 10 ~ 1000 사이의 양의 정수\n",
    "# criterion :  'gini', 'entropy'. 'gini'는 진니 불순도를, 'entropy'는 정보 이득\n",
    "# max_depth : None 또는 양의 정수\n",
    "# min_samples_split : 2 이상의 정수 또는 0과 1 사이의 실수\n",
    "# min_samples_leaf : 1 이상의 정수 또는 0과 0.5 사이의 실수\n",
    "# min_weight_fraction_leaf :  0.0에서 0.5 사이의 실수\n",
    "# max_features :  'auto', 'sqrt', 'log2' 또는 양의 정수/실수\n",
    "# max_leaf_nodes :  None 또는 양의 정수\n",
    "# min_impurity_decrease : 0.0 이상의 실수\n",
    "# bootstrap : True, False"
   ]
  },
  {
   "cell_type": "markdown",
   "id": "5eaabb7c-6cbb-4fcb-907c-d14bacc342c4",
   "metadata": {},
   "source": [
    "## Hyperparameters Search"
   ]
  },
  {
   "cell_type": "code",
   "execution_count": 3,
   "id": "ea45eb64-64b0-4c54-ac41-d8a9448d5e25",
   "metadata": {},
   "outputs": [
    {
     "name": "stdout",
     "output_type": "stream",
     "text": [
      "Fitting 3 folds for each of 36 candidates, totalling 108 fits\n"
     ]
    },
    {
     "data": {
      "text/plain": [
       "({'max_depth': None,\n",
       "  'min_samples_leaf': 4,\n",
       "  'min_samples_split': 2,\n",
       "  'n_estimators': 50},\n",
       " 0.7474650215816369)"
      ]
     },
     "execution_count": 3,
     "metadata": {},
     "output_type": "execute_result"
    }
   ],
   "source": [
    "# GridSearchCV를 위한 하이퍼파라미터 설정\n",
    "param_search_space = {\n",
    "    'n_estimators': [10, 50, 100],\n",
    "    'criterion': ['gini', 'entropy'],\n",
    "    'max_depth': [None, 10, 30],\n",
    "    'min_samples_split': [0.1, 0.9, 2, 10],\n",
    "    'min_samples_leaf': [0.1, 0.4, 1, 4],\n",
    "    'min_weight_fraction_leaf': [0.0, 0.2, 0.4, 0.5],\n",
    "    'max_features': ['auto', 'sqrt', 'log2'],\n",
    "    'max_leaf_nodes': [None, 3, 5],\n",
    "    'min_impurity_decrease': [0, 0.2, 0.4, 0.6],\n",
    "    'bootstrap': [True, False]\n",
    "}\n",
    "\n",
    "# RandomForestClassifier 객체 생성\n",
    "rf = RandomForestClassifier(random_state=42)\n",
    "\n",
    "# GridSearchCV 객체 생성\n",
    "grid_search = GridSearchCV(estimator=rf, param_grid=param_search_space, cv=3, n_jobs=-1, verbose=2, scoring='roc_auc')\n",
    "\n",
    "# GridSearchCV를 사용한 학습\n",
    "grid_search.fit(X_train, y_train)\n",
    "\n",
    "# 최적의 파라미터와 최고 점수 출력\n",
    "best_params = grid_search.best_params_\n",
    "best_score = grid_search.best_score_\n",
    "\n",
    "best_params, best_score"
   ]
  },
  {
   "cell_type": "markdown",
   "id": "2578ab5a-4af0-43a8-94b9-dc8fc2f8eaa8",
   "metadata": {},
   "source": [
    "## Submission"
   ]
  },
  {
   "cell_type": "code",
   "execution_count": 4,
   "id": "4ac4fc3a-30a1-4489-8306-2fb6d5618eed",
   "metadata": {},
   "outputs": [],
   "source": [
    "submit = pd.read_csv('./sample_submission.csv')\n",
    "\n",
    "# 찾은 최적의 파라미터들을 제출 양식에 맞게 제출\n",
    "for param, value in best_params.items():\n",
    "    if param in submit.columns:\n",
    "        submit[param] = value\n",
    "\n",
    "submit.to_csv('./baseline_submit.csv', index=False)"
   ]
  }
 ],
 "metadata": {
  "kernelspec": {
   "display_name": "Python 3 (ipykernel)",
   "language": "python",
   "name": "python3"
  },
  "language_info": {
   "codemirror_mode": {
    "name": "ipython",
    "version": 3
   },
   "file_extension": ".py",
   "mimetype": "text/x-python",
   "name": "python",
   "nbconvert_exporter": "python",
   "pygments_lexer": "ipython3",
   "version": "3.8.3"
  }
 },
 "nbformat": 4,
 "nbformat_minor": 5
}
