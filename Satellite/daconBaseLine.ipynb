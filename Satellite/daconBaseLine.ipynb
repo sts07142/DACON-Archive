{
  "cells": [
    {
      "cell_type": "code",
      "execution_count": null,
      "metadata": {
        "id": "p-8lU_gHw3KW"
      },
      "outputs": [],
      "source": [
        "import os\n",
        "import cv2\n",
        "import pandas as pd\n",
        "import numpy as np\n",
        "\n",
        "import torch\n",
        "import torch.nn as nn\n",
        "from torch.utils.data import Dataset, DataLoader\n",
        "from torchvision import transforms\n",
        "\n",
        "from tqdm import tqdm\n",
        "import albumentations as A\n",
        "from albumentations.pytorch import ToTensorV2\n",
        "\n",
        "device = torch.device('cuda' if torch.cuda.is_available() else 'cpu')\n"
      ]
    },
    {
      "cell_type": "code",
      "execution_count": null,
      "metadata": {
        "id": "FGr1afmkw9H_"
      },
      "outputs": [],
      "source": [
        "# # RLE 디코딩 함수\n",
        "# def rle_decode(mask_rle, shape):\n",
        "#     starts, lengths = [np.asarray(x, dtype=int) for x in (mask_rle[::2], mask_rle[1::2])]\n",
        "#     starts -= 1\n",
        "#     ends = starts + lengths\n",
        "#     img = np.zeros(shape[0]*shape[1], dtype=np.uint8)\n",
        "#     for lo, hi in zip(starts, ends):\n",
        "#         img[lo:hi] = 255\n",
        "#     return img.reshape(shape)\n",
        "\n",
        "# RLE 디코딩 함수\n",
        "def rle_decode(mask_rle, shape):\n",
        "    s = mask_rle.split()\n",
        "    starts, lengths = [np.asarray(x, dtype=int) for x in (s[0:][::2], s[1:][::2])]\n",
        "    starts -= 1\n",
        "    ends = starts + lengths\n",
        "    img = np.zeros(shape[0]*shape[1], dtype=np.uint8)\n",
        "    for lo, hi in zip(starts, ends):\n",
        "        img[lo:hi] = 1\n",
        "    return img.reshape(shape)\n",
        "\n",
        "# RLE 인코딩 함수\n",
        "def rle_encode(mask):\n",
        "    pixels = mask.flatten()\n",
        "    pixels = np.concatenate([[0], pixels, [0]])\n",
        "    runs = np.where(pixels[1:] != pixels[:-1])[0] + 1\n",
        "    runs[1::2] -= runs[::2]\n",
        "    return ' '.join(str(x) for x in runs)"
      ]
    },
    {
      "cell_type": "code",
      "execution_count": null,
      "metadata": {
        "id": "zDJInKIIw_fu"
      },
      "outputs": [],
      "source": [
        "class SatelliteDataset(Dataset):\n",
        "    def __init__(self, csv_file, transform=None, infer=False):\n",
        "        self.data = pd.read_csv(csv_file)\n",
        "        self.transform = transform\n",
        "        self.infer = infer\n",
        "\n",
        "    def __len__(self):\n",
        "        return len(self.data)\n",
        "\n",
        "    def __getitem__(self, idx):\n",
        "        img_path = self.data.iloc[idx, 1]\n",
        "        image = cv2.imread(img_path)\n",
        "        image = cv2.cvtColor(image, cv2.COLOR_BGR2RGB)\n",
        "\n",
        "        if self.infer:\n",
        "            if self.transform:\n",
        "                image = self.transform(image=image)['image']\n",
        "            return image\n",
        "\n",
        "        mask_rle = self.data.iloc[idx, 2]\n",
        "        mask = rle_decode(mask_rle, (image.shape[0], image.shape[1]))\n",
        "\n",
        "        if self.transform:\n",
        "            augmented = self.transform(image=image, mask=mask)\n",
        "            image = augmented['image']\n",
        "            mask = augmented['mask']\n",
        "\n",
        "        return image, mask"
      ]
    },
    {
      "cell_type": "code",
      "execution_count": null,
      "metadata": {
        "id": "AOYmW1zixC_a"
      },
      "outputs": [],
      "source": [
        "# transform = A.Compose(\n",
        "#     [\n",
        "#         A.Resize(224, 224),\n",
        "#         A.Normalize(),\n",
        "#         ToTensorV2()\n",
        "#     ]\n",
        "# )\n",
        "\n",
        "# dataset = SatelliteDataset(csv_file='./train.csv', transform=transform)\n",
        "# dataloader = DataLoader(dataset, batch_size=16, shuffle=True, num_workers=0)"
      ]
    },
    {
      "cell_type": "code",
      "execution_count": null,
      "metadata": {
        "id": "e_fxZCJGxFrg"
      },
      "outputs": [],
      "source": [
        "# U-Net의 기본 구성 요소인 Double Convolution Block을 정의합니다.\n",
        "def double_conv(in_channels, out_channels):\n",
        "    return nn.Sequential(\n",
        "        nn.Conv2d(in_channels, out_channels, 3, padding=1),\n",
        "        nn.ReLU(inplace=True),\n",
        "        nn.Conv2d(out_channels, out_channels, 3, padding=1),\n",
        "        nn.ReLU(inplace=True)\n",
        "    )\n",
        "\n",
        "# 간단한 U-Net 모델 정의\n",
        "class UNet(nn.Module):\n",
        "    def __init__(self):\n",
        "        super(UNet, self).__init__()\n",
        "        self.dconv_down1 = double_conv(3, 64)\n",
        "        self.dconv_down2 = double_conv(64, 128)\n",
        "        self.dconv_down3 = double_conv(128, 256)\n",
        "        self.dconv_down4 = double_conv(256, 512)\n",
        "\n",
        "        self.maxpool = nn.MaxPool2d(2)\n",
        "        self.upsample = nn.Upsample(scale_factor=2, mode='bilinear', align_corners=True)\n",
        "\n",
        "        self.dconv_up3 = double_conv(256 + 512, 256)\n",
        "        self.dconv_up2 = double_conv(128 + 256, 128)\n",
        "        self.dconv_up1 = double_conv(128 + 64, 64)\n",
        "\n",
        "        self.conv_last = nn.Conv2d(64, 1, 1)\n",
        "\n",
        "    def forward(self, x):\n",
        "        conv1 = self.dconv_down1(x)\n",
        "        x = self.maxpool(conv1)\n",
        "\n",
        "        conv2 = self.dconv_down2(x)\n",
        "        x = self.maxpool(conv2)\n",
        "\n",
        "        conv3 = self.dconv_down3(x)\n",
        "        x = self.maxpool(conv3)\n",
        "\n",
        "        x = self.dconv_down4(x)\n",
        "\n",
        "        x = self.upsample(x)\n",
        "        x = torch.cat([x, conv3], dim=1)\n",
        "\n",
        "        x = self.dconv_up3(x)\n",
        "        x = self.upsample(x)\n",
        "        x = torch.cat([x, conv2], dim=1)\n",
        "\n",
        "        x = self.dconv_up2(x)\n",
        "        x = self.upsample(x)\n",
        "        x = torch.cat([x, conv1], dim=1)\n",
        "\n",
        "        x = self.dconv_up1(x)\n",
        "\n",
        "        out = self.conv_last(x)\n",
        "\n",
        "        return out"
      ]
    },
    {
      "cell_type": "code",
      "execution_count": null,
      "metadata": {
        "id": "6tXk5pXZo19i"
      },
      "outputs": [],
      "source": [
        "transform = A.Compose(\n",
        "    [\n",
        "        A.Resize(112, 112),\n",
        "        A.Normalize(),\n",
        "        ToTensorV2()\n",
        "    ]\n",
        ")"
      ]
    },
    {
      "cell_type": "markdown",
      "metadata": {
        "id": "cg7RWp0Xlq6I"
      },
      "source": [
        "## **픽셀의 숫자가 특정 개수 이하면 -1**"
      ]
    },
    {
      "cell_type": "code",
      "execution_count": null,
      "metadata": {
        "id": "y5vUY1rZmPKy"
      },
      "outputs": [],
      "source": [
        "# 이미지 업로드해주세요\n",
        "# 이미지 경로하고 검출한 마스크를 입력해주세요\n",
        "# IMAGE_PATH = \"/content/TEST_00121.png\"\n",
        "# MASK_RLE = \"24248 4 24470 7 24694 7 24917 8 25141 8 25367 5 43988 2 44212 2 44436 3 44660 3 44884 3 46246 4 46470 4 46693 5 46917 5 47141 5 47366 3 49751 1 49975 1\"\n"
      ]
    },
    {
      "cell_type": "markdown",
      "metadata": {
        "id": "NLPm70CcoVmD"
      },
      "source": [
        "**컨투어 검출후 에러 삭제**"
      ]
    },
    {
      "cell_type": "code",
      "execution_count": null,
      "metadata": {
        "id": "LKpGQDbeoVTk"
      },
      "outputs": [],
      "source": [
        "# 컨투어 검출하기\n",
        "def contoursDelet(mask):\n",
        "  mask = np.array(mask)\n",
        "  contours, hierarchy = cv2.findContours(mask.astype(np.uint8), cv2.RETR_TREE, cv2.CHAIN_APPROX_SIMPLE)\n",
        "\n",
        "  # Threshold를 지정하세요.\n",
        "  threshold = 50\n",
        "\n",
        "  # Create an empty mask to store the pixels to be removed\n",
        "  remove_mask = np.zeros_like(mask)\n",
        "\n",
        "  # 각 컨투어를 순회하며 면적 계산\n",
        "  for idx, contour in enumerate(contours):\n",
        "    # 현재 컨투어가 최상위 컨투어이고(부모가 없고), 하위 컨투어(자식이)가 없으면 단일 구조\n",
        "    if hierarchy[0][idx][3] == -1 and hierarchy[0][idx][2] == -1:\n",
        "      area = cv2.contourArea(contour)\n",
        "      #print(area)\n",
        "      if area < threshold:\n",
        "        cv2.drawContours(remove_mask, [contour], -1, 255, thickness=cv2.FILLED)\n",
        "\n",
        "    # 현재 컨투어가 최상위 컨투어이고, 하위 컨투어(자식이)가 있으면 뚫린 구조\n",
        "    elif hierarchy[0][idx][3] == -1 and hierarchy[0][idx][2] != -1:\n",
        "      outer_area = cv2.contourArea(contour)\n",
        "      inner_area = cv2.contourArea(contours[hierarchy[0][idx][2]])\n",
        "      #print(outer_area - inner_area)\n",
        "      if (outer_area - inner_area) < threshold:\n",
        "        cv2.drawContours(remove_mask, [contour], -1, 255, thickness=cv2.FILLED)\n",
        "\n",
        "  # Remove the small areas from the original mask\n",
        "  final_mask = cv2.bitwise_and(mask, cv2.bitwise_not(remove_mask))\n",
        "\n",
        "  return final_mask.astype(np.uint8)\n"
      ]
    },
    {
      "cell_type": "code",
      "execution_count": null,
      "metadata": {
        "id": "4_Zc0dhVjoii"
      },
      "outputs": [],
      "source": [
        "if __name__ == '__main__':\n",
        "    device = torch.device('cuda' if torch.cuda.is_available() else 'cpu')\n",
        "    print(f\"Using {device} device\")\n",
        "\n",
        "    transform = A.Compose(\n",
        "        [\n",
        "            A.Resize(224, 224),\n",
        "            A.Normalize(),\n",
        "            ToTensorV2()\n",
        "        ]\n",
        "    )\n",
        "\n",
        "    test_dataset = SatelliteDataset(csv_file='./test.csv', transform=transform, infer=True)\n",
        "    test_dataloader = DataLoader(test_dataset, batch_size=16, shuffle=False, num_workers=4)\n",
        "\n",
        "    model = UNet()\n",
        "    model.load_state_dict(torch.load('./UNetB5.pth', map_location=torch.device('cpu')))\n",
        "    model = model.to(device)\n",
        "\n",
        "    # model = model.load_state_dict(torch.load(\"UNet.pth\")).to(device)\n",
        "\n",
        "\n",
        "with torch.no_grad():\n",
        "    model.eval()\n",
        "    result = []\n",
        "    for images in tqdm(test_dataloader):\n",
        "        images = images.float().to(device)\n",
        "        \n",
        "        outputs = model(images)\n",
        "        masks = torch.sigmoid(outputs).cpu().numpy()\n",
        "        masks = np.squeeze(masks, axis=1)\n",
        "        masks = (masks > 0.35).astype(np.uint8) # Threshold = 0.35\n",
        "        \n",
        "        for i in range(len(images)):\n",
        "            #mask_rle = rle_encode(masks[i])\n",
        "\n",
        "            mask_rle_delete=contoursDelet(masks[i])\n",
        "            mask_rle=rle_encode(mask_rle_delete)\n",
        "            if mask_rle == '': # 예측된 건물 픽셀이 아예 없는 경우 -1\n",
        "                result.append(-1)\n",
        "            else:\n",
        "                result.append(mask_rle)\n",
        "\n",
        "    submit = pd.read_csv('./sample_submission.csv')\n",
        "    submit['mask_rle'] = result\n",
        "\n",
        "    submit.to_csv('./submit.csv', index=False)"
      ]
    },
    {
      "cell_type": "code",
      "execution_count": null,
      "metadata": {
        "colab": {
          "base_uri": "https://localhost:8080/",
          "height": 437
        },
        "id": "dudbaHMsxMGz",
        "outputId": "2b961cdc-7a4f-4a86-d446-9dcf63f0f88c"
      },
      "outputs": [],
      "source": [
        "# # model 초기화\n",
        "# model = UNet().to(device)\n",
        "\n",
        "# # loss function과 optimizer 정의\n",
        "# criterion = torch.nn.BCEWithLogitsLoss()\n",
        "# optimizer = torch.optim.Adam(model.parameters(), lr=0.001)\n",
        "\n",
        "# # training loop\n",
        "# for epoch in range(10):  # 10 에폭 동안 학습합니다.\n",
        "#     model.train()\n",
        "#     epoch_loss = 0\n",
        "#     for images, masks in tqdm(dataloader):\n",
        "#         images = images.float().to(device)\n",
        "#         masks = masks.float().to(device)\n",
        "\n",
        "#         optimizer.zero_grad()\n",
        "#         outputs = model(images)\n",
        "#         loss = criterion(outputs, masks.unsqueeze(1))\n",
        "#         loss.backward()\n",
        "#         optimizer.step()\n",
        "\n",
        "#         epoch_loss += loss.item()\n",
        "\n",
        "#     print(f'Epoch {epoch+1}, Loss: {epoch_loss/len(dataloader)}')"
      ]
    },
    {
      "cell_type": "code",
      "execution_count": null,
      "metadata": {
        "id": "HqHxkyjHxNp4"
      },
      "outputs": [],
      "source": [
        "# test_dataset = SatelliteDataset(csv_file='./test.csv', transform=transform, infer=True)\n",
        "# test_dataloader = DataLoader(test_dataset, batch_size=16, shuffle=False, num_workers=0)"
      ]
    },
    {
      "cell_type": "code",
      "execution_count": null,
      "metadata": {
        "id": "FmCK0v9DxSVX"
      },
      "outputs": [],
      "source": [
        "# with torch.no_grad():\n",
        "#     model.eval()\n",
        "#     result = []\n",
        "#     for images in tqdm(test_dataloader):\n",
        "#         images = images.float().to(device)\n",
        "\n",
        "#         outputs = model(images)\n",
        "#         masks = torch.sigmoid(outputs).cpu().numpy()\n",
        "#         masks = np.squeeze(masks, axis=1)\n",
        "#         masks = (masks > 0.35).astype(np.uint8) # Threshold = 0.35\n",
        "\n",
        "#         for i in range(len(images)):\n",
        "#             mask_rle = rle_encode(masks[i])\n",
        "#             if mask_rle == '': # 예측된 건물 픽셀이 아예 없는 경우 -1\n",
        "#                 result.append(-1)\n",
        "#             else:\n",
        "#                 result.append(mask_rle)"
      ]
    },
    {
      "cell_type": "code",
      "execution_count": null,
      "metadata": {
        "id": "g4UVDbevxSiY"
      },
      "outputs": [],
      "source": [
        "# submit = pd.read_csv('./sample_submission.csv')\n",
        "# submit['mask_rle'] = result"
      ]
    },
    {
      "cell_type": "code",
      "execution_count": null,
      "metadata": {
        "id": "PRD7wj9txSvh"
      },
      "outputs": [],
      "source": [
        "# submit.to_csv('./submit.csv', index=False)"
      ]
    },
    {
      "cell_type": "code",
      "execution_count": null,
      "metadata": {
        "id": "LidPfUQKUgtY"
      },
      "outputs": [],
      "source": [
        "# # create test dataloader (with preprocessing operation: to_tensor(...))\n",
        "# test_dataset = BuildingsDataset(\n",
        "#     TEST_DATA_DIR,\n",
        "#     # augmentation=get_validation_augmentation(),\n",
        "#     preprocessing=get_preprocessing(preprocessing_fn),\n",
        "#     class_rgb_values=select_class_rgb_values,\n",
        "# )\n",
        "\n",
        "# test_dataloader = DataLoader(test_dataset)\n",
        "\n",
        "# # test dataset for visualization (without preprocessing transformations)\n",
        "# test_dataset_vis = BuildingsDataset(\n",
        "#     TEST_DATA_DIR , TEST_LABLE_DIR ,\n",
        "#     # augmentation=get_validation_augmentation(),\n",
        "#     class_rgb_values=select_class_rgb_values,\n",
        "# )\n",
        "\n",
        "# # get a random test image/mask index\n",
        "# random_idx = random.randint(0, len(test_dataset_vis)-1)\n",
        "# print(random_idx)\n",
        "# image, mask = test_dataset_vis[random_idx]\n",
        "\n",
        "# visualize(\n",
        "#     original_image = image,\n",
        "#     ground_truth_mask = colour_code_segmentation(reverse_one_hot(mask), select_class_rgb_values),\n",
        "#     one_hot_encoded_mask = reverse_one_hot(mask)\n",
        "# )\n",
        "# # print(test_dataset[][0].shape)"
      ]
    }
  ],
  "metadata": {
    "accelerator": "GPU",
    "colab": {
      "gpuType": "T4",
      "provenance": []
    },
    "kernelspec": {
      "display_name": "Python 3",
      "name": "python3"
    },
    "language_info": {
      "codemirror_mode": {
        "name": "ipython",
        "version": 3
      },
      "file_extension": ".py",
      "mimetype": "text/x-python",
      "name": "python",
      "nbconvert_exporter": "python",
      "pygments_lexer": "ipython3",
      "version": "3.8.10"
    }
  },
  "nbformat": 4,
  "nbformat_minor": 0
}
