{
 "cells": [
  {
   "cell_type": "code",
   "execution_count": null,
   "metadata": {
    "id": "p-8lU_gHw3KW"
   },
   "outputs": [],
   "source": [
    "import os\n",
    "import cv2\n",
    "import pandas as pd\n",
    "import numpy as np\n",
    "import random\n",
    "import glob\n",
    "\n",
    "import torch\n",
    "import torch.nn as nn\n",
    "from torch.utils.data import Dataset, DataLoader\n",
    "from torchvision import transforms\n",
    "\n",
    "from tqdm import tqdm\n",
    "import albumentations as A\n",
    "from albumentations.pytorch import ToTensorV2\n",
    "\n",
    "from efficientnet_pytorch import EfficientNet\n",
    "from keras.applications.vgg16 import VGG16\n",
    "from keras.applications.resnet50 import ResNet50\n",
    "from albumentations import (\n",
    "    HorizontalFlip, IAAPerspective, ShiftScaleRotate, CLAHE, RandomRotate90,\n",
    "    Transpose, ShiftScaleRotate, Blur, OpticalDistortion, GridDistortion, HueSaturationValue,\n",
    "    IAAAdditiveGaussianNoise, GaussNoise, MotionBlur, MedianBlur, IAAPiecewiseAffine,\n",
    "    IAASharpen, IAAEmboss, RandomBrightnessContrast, Flip, OneOf, Compose, Normalize, Cutout, CoarseDropout,\n",
    "    ShiftScaleRotate, CenterCrop, Resize\n",
    ")\n",
    "from albumentations.pytorch import ToTensorV2\n",
    "\n",
    "device = torch.device('cuda' if torch.cuda.is_available() else 'cpu')"
   ]
  },
  {
   "cell_type": "code",
   "execution_count": null,
   "metadata": {
    "id": "FGr1afmkw9H_"
   },
   "outputs": [],
   "source": [
    "# RLE 디코딩 함수\n",
    "def rle_decode(mask_rle, shape):\n",
    "    s = mask_rle.split()\n",
    "    starts, lengths = [np.asarray(x, dtype=int) for x in (s[0:][::2], s[1:][::2])]\n",
    "    starts -= 1\n",
    "    ends = starts + lengths\n",
    "    img = np.zeros(shape[0]*shape[1], dtype=np.uint8)\n",
    "    for lo, hi in zip(starts, ends):\n",
    "        img[lo:hi] = 1\n",
    "    return img.reshape(shape)\n",
    "\n",
    "# RLE 인코딩 함수\n",
    "def rle_encode(mask):\n",
    "    pixels = mask.flatten()\n",
    "    pixels = np.concatenate([[0], pixels, [0]])\n",
    "    runs = np.where(pixels[1:] != pixels[:-1])[0] + 1\n",
    "    runs[1::2] -= runs[::2]\n",
    "    return ' '.join(str(x) for x in runs)"
   ]
  },
  {
   "cell_type": "code",
   "execution_count": null,
   "metadata": {},
   "outputs": [],
   "source": [
    "def remove_shadow_dark_area(image_path):\n",
    "\n",
    "    img = cv2.imread(image_path)\n",
    "    hsv = cv2.cvtColor(img, cv2.COLOR_BGR2HSV)\n",
    "    h, s, v = cv2.split(hsv)\n",
    "\n",
    "    min_val, max_val, min_loc, max_loc = cv2.minMaxLoc(v)\n",
    "\n",
    "    threshold=1.34*min_val+20.72\n",
    "\n",
    "    # 수정된 부분: 이진화 임계값 조정\n",
    "    threshold_value = int(0.01 * max_val)\n",
    "    # 이미지 불러오기\n",
    "    src = cv2.imread(image_path)\n",
    "\n",
    "    # 이미지를 HSV로 변환\n",
    "    hsv = cv2.cvtColor(src, cv2.COLOR_BGR2HSV)\n",
    "    h, s, v = cv2.split(hsv)\n",
    "\n",
    "    # 명도가 특정 임계값보다 낮은 영역을 검정색으로 채우기\n",
    "    v[v < threshold] = v[v < threshold]*1.3\n",
    "\n",
    "    # 명도가 수정된 이미지를 사용하여 원래 이미지를 변환\n",
    "    hsv_modified = cv2.merge((h, s, v))\n",
    "    modified_img = cv2.cvtColor(hsv_modified, cv2.COLOR_HSV2BGR)\n",
    "\n",
    "    return modified_img\n",
    "\n"
   ]
  },
  {
   "cell_type": "code",
   "execution_count": null,
   "metadata": {
    "id": "zDJInKIIw_fu"
   },
   "outputs": [],
   "source": [
    "class SatelliteDataset(Dataset):\n",
    "    def __init__(self, csv_file, transform=None, infer=False):\n",
    "        self.data = pd.read_csv(csv_file)\n",
    "        self.transform = transform\n",
    "        self.infer = infer\n",
    "\n",
    "        # transforms\n",
    "        self.transform = transform\n",
    "        self.default_transform = Compose([\n",
    "            Resize(224, 224),\n",
    "            Normalize(),\n",
    "            ToTensorV2()\n",
    "        ])\n",
    "\n",
    "    def __len__(self):\n",
    "        return len(self.data)\n",
    "\n",
    "    def __getitem__(self, idx):\n",
    "        img_path = self.data.iloc[idx, 1]\n",
    "\n",
    "        image = remove_shadow_dark_area(img_path)\n",
    "        #image = cv2.cvtColor(image, cv2.COLOR_BGR2RGB)\n",
    "\n",
    "        if self.infer:\n",
    "            if self.transform:\n",
    "                image = self.transform(image=image)['image']\n",
    "            else:\n",
    "                image = self.default_transform(image=image)['image']\n",
    "            return image\n",
    "\n",
    "        mask_rle = self.data.iloc[idx, 2]\n",
    "        mask = rle_decode(mask_rle, (image.shape[0], image.shape[1]))\n",
    "\n",
    "        if self.transform:\n",
    "            augmented = self.transform(image=image, mask=mask)\n",
    "            image = augmented['image']\n",
    "            mask = augmented['mask']\n",
    "        else:\n",
    "            augmented = self.default_transform(image=image, mask=mask)\n",
    "            image = augmented['image']\n",
    "            mask = augmented['mask']\n",
    "\n",
    "        return image, mask"
   ]
  },
  {
   "cell_type": "code",
   "execution_count": null,
   "metadata": {
    "id": "6tXk5pXZo19i"
   },
   "outputs": [],
   "source": [
    "aug_transform = Compose([\n",
    "        Resize(224, 224),\n",
    "        HorizontalFlip(p=0.5), # 50% 확률로 이미지를 수평으로 뒤집음\n",
    "        A.VerticalFlip(p=0.5), # 50% 확률로 이미지를 수직으로 뒤집음\n",
    "        A.Rotate(limit=30), # -30도에서 30도 사이의 각도로 이미지를 무작위로 회전\n",
    "        RandomBrightnessContrast(brightness_limit=0.1, contrast_limit=0.1, p=0.5), # 컬러 변형\n",
    "        Normalize(), # 이미지를 정규화\n",
    "        ToTensorV2() # PyTorch tensor로 변환\n",
    "    ]\n",
    ")\n",
    "\n",
    "dataset = SatelliteDataset(csv_file='./train.csv', transform=aug_transform)\n",
    "dataloader = DataLoader(dataset, batch_size=16, shuffle=True, num_workers=6)"
   ]
  },
  {
   "cell_type": "code",
   "execution_count": null,
   "metadata": {
    "id": "e_fxZCJGxFrg"
   },
   "outputs": [],
   "source": [
    "# U-Net의 기본 구성 요소인 Double Convolution Block을 정의합니다.\n",
    "def double_conv(in_channels, out_channels):\n",
    "    return nn.Sequential(\n",
    "        nn.Conv2d(in_channels, out_channels, 3, padding=1),\n",
    "        nn.ReLU(inplace=True),\n",
    "        nn.Conv2d(out_channels, out_channels, 3, padding=1),\n",
    "        nn.ReLU(inplace=True)\n",
    "    )\n",
    "class UNet(nn.Module):\n",
    "    def __init__(self, backbone_name='ResNet50', classes=1, encoder_weights='imagenet'):\n",
    "        super(UNet, self).__init__()\n",
    "\n",
    "        self.backbone = ResNet50\n",
    "\n",
    "        self.dconv_down1 = double_conv(3, 64)\n",
    "        self.dconv_down2 = double_conv(64, 128)\n",
    "        self.dconv_down3 = double_conv(128, 256)\n",
    "        self.dconv_down4 = double_conv(256, 512)\n",
    "\n",
    "        self.maxpool = nn.MaxPool2d(2)\n",
    "        self.upsample = nn.Upsample(scale_factor=2, mode='bilinear', align_corners=True)\n",
    "\n",
    "        self.dconv_up3 = double_conv(256 + 512, 256)\n",
    "        self.dconv_up2 = double_conv(128 + 256, 128)\n",
    "        self.dconv_up1 = double_conv(128 + 64, 64)\n",
    "\n",
    "        self.conv_last = nn.Conv2d(64, classes, 1)\n",
    "\n",
    "    def forward(self, x):\n",
    "        # Backbone feature extraction\n",
    "        #backbone_features = self.backbone.extract_features(x)\n",
    "\n",
    "        conv1 = self.dconv_down1(x)\n",
    "        x = self.maxpool(conv1)\n",
    "\n",
    "        conv2 = self.dconv_down2(x)\n",
    "        x = self.maxpool(conv2)\n",
    "\n",
    "        conv3 = self.dconv_down3(x)\n",
    "        x = self.maxpool(conv3)\n",
    "\n",
    "        x = self.dconv_down4(x)\n",
    "\n",
    "        x = self.upsample(x)\n",
    "        x = torch.cat([x, conv3], dim=1)\n",
    "\n",
    "        x = self.dconv_up3(x)\n",
    "        x = self.upsample(x)\n",
    "        x = torch.cat([x, conv2], dim=1)\n",
    "\n",
    "        x = self.dconv_up2(x)\n",
    "        x = self.upsample(x)\n",
    "        x = torch.cat([x, conv1], dim=1)\n",
    "\n",
    "        x = self.dconv_up1(x)\n",
    "\n",
    "        out = self.conv_last(x)\n",
    "\n",
    "        return out\n"
   ]
  },
  {
   "cell_type": "code",
   "execution_count": null,
   "metadata": {
    "colab": {
     "base_uri": "https://localhost:8080/"
    },
    "id": "dudbaHMsxMGz",
    "outputId": "63024d28-2fe9-4a8d-f56a-1027de6c4268"
   },
   "outputs": [],
   "source": [
    "model = UNet().to(device)\n",
    "\n",
    "model = UNet(backbone_name='ResNet50', encoder_weights='imagenet').to(device)\n",
    "\n",
    "# # loss function과 optimizer 정의\n",
    "criterion = torch.nn.BCEWithLogitsLoss().to(device)\n",
    "optimizer = torch.optim.AdamW(model.parameters(), lr=0.001)\n"
   ]
  },
  {
   "cell_type": "code",
   "execution_count": null,
   "metadata": {},
   "outputs": [],
   "source": [
    "\n",
    "# training loop\n",
    "for epoch in range(100):  # 10 에폭 동안 학습합니다.\n",
    "    model.train()\n",
    "    epoch_loss = 0\n",
    "    for images, masks in tqdm(dataloader):\n",
    "        images = images.float().to(device)\n",
    "        masks = masks.float().to(device)\n",
    "\n",
    "        optimizer.zero_grad()\n",
    "        outputs = model(images)\n",
    "        loss = criterion(outputs, masks.unsqueeze(1))\n",
    "        loss.backward()\n",
    "        optimizer.step()\n",
    "\n",
    "        epoch_loss += loss.item()\n",
    "\n",
    "    print(f'Epoch {epoch+1}, Loss: {epoch_loss/len(dataloader)}')\n"
   ]
  },
  {
   "cell_type": "markdown",
   "metadata": {
    "id": "cg7RWp0Xlq6I"
   },
   "source": [
    "## **픽셀의 숫자가 특정 개수 이하면 -1**"
   ]
  },
  {
   "cell_type": "code",
   "execution_count": null,
   "metadata": {
    "id": "CyjkruejzOU7"
   },
   "outputs": [],
   "source": [
    "model_name = \"UNet_shadow.pth\"\n",
    "torch.save(model.state_dict(), \"./\" + model_name)"
   ]
  },
  {
   "cell_type": "markdown",
   "metadata": {
    "id": "NLPm70CcoVmD"
   },
   "source": [
    "**컨투어 검출후 에러 삭제**"
   ]
  },
  {
   "cell_type": "code",
   "execution_count": null,
   "metadata": {
    "id": "LKpGQDbeoVTk"
   },
   "outputs": [],
   "source": [
    "# 컨투어 검출하기\n",
    "def contoursDelet(mask):\n",
    "  mask = np.array(mask)\n",
    "  contours, hierarchy = cv2.findContours(mask.astype(np.uint8), cv2.RETR_TREE, cv2.CHAIN_APPROX_SIMPLE)\n",
    "\n",
    "  # cv2.drawContours(img_copy, contours, -1, (0, 0, 255), 1)\n",
    "\n",
    "  # Threshold를 지정하세요.\n",
    "  threshold = 100\n",
    "\n",
    "  # Create an empty mask to store the pixels to be removed\n",
    "  remove_mask = np.zeros_like(mask)\n",
    "\n",
    "  # 각 컨투어를 순회하며 면적 계산\n",
    "  for idx, contour in enumerate(contours):\n",
    "      # 현재 컨투어가 최상위 컨투어이고(부모가 없고), 하위 컨투어(자식이)가 없으면 단일 구조\n",
    "      if hierarchy[0][idx][3] == -1 and hierarchy[0][idx][2] == -1:\n",
    "          area = cv2.contourArea(contour)\n",
    "          #print(area)\n",
    "          if area < threshold:\n",
    "              cv2.drawContours(remove_mask, [contour], -1, 255, thickness=cv2.FILLED)\n",
    "\n",
    "      # 현재 컨투어가 최상위 컨투어이고, 하위 컨투어(자식이)가 있으면 뚫린 구조\n",
    "      elif hierarchy[0][idx][3] == -1 and hierarchy[0][idx][2] != -1:\n",
    "          outer_area = cv2.contourArea(contour)\n",
    "          inner_area = cv2.contourArea(contours[hierarchy[0][idx][2]])\n",
    "          #print(outer_area - inner_area)\n",
    "          if (outer_area - inner_area) < threshold:\n",
    "              cv2.drawContours(remove_mask, [contour], -1, 255, thickness=cv2.FILLED)\n",
    "\n",
    "  # Remove the small areas from the original mask\n",
    "  final_mask = cv2.bitwise_and(mask, cv2.bitwise_not(remove_mask))\n",
    "\n",
    "  return final_mask\n"
   ]
  },
  {
   "cell_type": "code",
   "execution_count": null,
   "metadata": {
    "id": "xXzLy_zConJG"
   },
   "outputs": [],
   "source": [
    "transform = A.Compose(\n",
    "    [\n",
    "        A.Resize(112, 112),\n",
    "        A.Normalize(),\n",
    "        ToTensorV2()\n",
    "    ]\n",
    ")"
   ]
  },
  {
   "cell_type": "code",
   "execution_count": null,
   "metadata": {
    "id": "HqHxkyjHxNp4"
   },
   "outputs": [],
   "source": [
    "test_dataset = SatelliteDataset(csv_file='./test.csv', transform=transform, infer=True)\n",
    "test_dataloader = DataLoader(test_dataset, batch_size=16, shuffle=False, num_workers=6)"
   ]
  },
  {
   "cell_type": "code",
   "execution_count": null,
   "metadata": {
    "id": "dEUER237zUBk"
   },
   "outputs": [],
   "source": [
    "model.load_state_dict(torch.load('./UNet_shadow.pth', map_location=torch.device('cpu')))\n",
    "model = model.to(device)"
   ]
  },
  {
   "cell_type": "code",
   "execution_count": null,
   "metadata": {
    "colab": {
     "background_save": true,
     "base_uri": "https://localhost:8080/"
    },
    "id": "FmCK0v9DxSVX",
    "outputId": "b91d3e66-f841-413b-b088-f92bf21524ee"
   },
   "outputs": [],
   "source": [
    "with torch.no_grad():\n",
    "    model.eval()\n",
    "    result = []\n",
    "    for images in tqdm(test_dataloader):\n",
    "        images = images.float().to(device)\n",
    "        \n",
    "        outputs = model(images)\n",
    "        masks = torch.sigmoid(outputs).cpu().numpy()\n",
    "        masks = np.squeeze(masks, axis=1)\n",
    "        masks = (masks > 0.2).astype(np.uint8) # Threshold = 0.35\n",
    "        \n",
    "        for i in range(len(images)):\n",
    "            mask_resized = cv2.resize(masks[i], (224, 224))\n",
    "            mask_deleted = contoursDelet(mask_resized)\n",
    "            mask_rle = rle_encode(mask_deleted)\n",
    "            if mask_rle == '': # 예측된 건물 픽셀이 아예 없는 경우 -1\n",
    "                result.append(-1)\n",
    "            else:\n",
    "                result.append(mask_rle)"
   ]
  },
  {
   "cell_type": "code",
   "execution_count": null,
   "metadata": {
    "colab": {
     "background_save": true
    },
    "id": "g4UVDbevxSiY"
   },
   "outputs": [],
   "source": [
    "submit = pd.read_csv('./sample_submission.csv')\n",
    "submit['mask_rle'] = result"
   ]
  },
  {
   "cell_type": "code",
   "execution_count": null,
   "metadata": {
    "colab": {
     "background_save": true
    },
    "id": "8cQ9-evfzXyL"
   },
   "outputs": [],
   "source": [
    "submit.to_csv('./submit.csv', index=False)"
   ]
  }
 ],
 "metadata": {
  "colab": {
   "gpuType": "T4",
   "machine_shape": "hm",
   "provenance": []
  },
  "kernelspec": {
   "display_name": "Python 3 (ipykernel)",
   "language": "python",
   "name": "python3"
  },
  "language_info": {
   "codemirror_mode": {
    "name": "ipython",
    "version": 3
   },
   "file_extension": ".py",
   "mimetype": "text/x-python",
   "name": "python",
   "nbconvert_exporter": "python",
   "pygments_lexer": "ipython3",
   "version": "3.8.10"
  }
 },
 "nbformat": 4,
 "nbformat_minor": 1
}
